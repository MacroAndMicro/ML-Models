{
  "nbformat": 4,
  "nbformat_minor": 0,
  "metadata": {
    "colab": {
      "provenance": [],
      "collapsed_sections": [
        "BWVFhLinK9OV",
        "01cRRbNCXMLa",
        "jRH2C8vGnFCO"
      ],
      "authorship_tag": "ABX9TyP1GmMlPOR6uw7SebIwWGk8",
      "include_colab_link": true
    },
    "kernelspec": {
      "name": "python3",
      "display_name": "Python 3"
    },
    "language_info": {
      "name": "python"
    }
  },
  "cells": [
    {
      "cell_type": "markdown",
      "metadata": {
        "id": "view-in-github",
        "colab_type": "text"
      },
      "source": [
        "<a href=\"https://colab.research.google.com/github/MacroAndMicro/ML-Models/blob/main/fake_news_prediction.ipynb\" target=\"_parent\"><img src=\"https://colab.research.google.com/assets/colab-badge.svg\" alt=\"Open In Colab\"/></a>"
      ]
    },
    {
      "cell_type": "markdown",
      "source": [
        "# Importing the libraries\n"
      ],
      "metadata": {
        "id": "BWVFhLinK9OV"
      }
    },
    {
      "cell_type": "code",
      "source": [
        "import numpy as np\n",
        "import pandas as pd\n",
        "import re\n",
        "from nltk.corpus import stopwords\n",
        "from nltk.stem import PorterStemmer\n",
        "from sklearn.feature_extraction.text import TfidfVectorizer\n",
        "from sklearn.model_selection import train_test_split\n",
        "from sklearn.linear_model import LogisticRegression\n",
        "from sklearn.metrics import accuracy_score"
      ],
      "metadata": {
        "id": "hKDuUnEpLLR6"
      },
      "execution_count": 69,
      "outputs": []
    },
    {
      "cell_type": "code",
      "source": [
        "import nltk\n",
        "nltk.download('stopwords')"
      ],
      "metadata": {
        "colab": {
          "base_uri": "https://localhost:8080/"
        },
        "id": "E_ceaakBOQUB",
        "outputId": "d0539fb5-58d0-4772-9397-56414978cd69"
      },
      "execution_count": 70,
      "outputs": [
        {
          "output_type": "stream",
          "name": "stderr",
          "text": [
            "[nltk_data] Downloading package stopwords to /root/nltk_data...\n",
            "[nltk_data]   Package stopwords is already up-to-date!\n"
          ]
        },
        {
          "output_type": "execute_result",
          "data": {
            "text/plain": [
              "True"
            ]
          },
          "metadata": {},
          "execution_count": 70
        }
      ]
    },
    {
      "cell_type": "code",
      "source": [
        "print(stopwords.words('english'))"
      ],
      "metadata": {
        "colab": {
          "base_uri": "https://localhost:8080/"
        },
        "id": "MEeHPGBVWIVU",
        "outputId": "4cda6dba-2ca2-4fe8-8150-33a85a531d55"
      },
      "execution_count": 71,
      "outputs": [
        {
          "output_type": "stream",
          "name": "stdout",
          "text": [
            "['i', 'me', 'my', 'myself', 'we', 'our', 'ours', 'ourselves', 'you', \"you're\", \"you've\", \"you'll\", \"you'd\", 'your', 'yours', 'yourself', 'yourselves', 'he', 'him', 'his', 'himself', 'she', \"she's\", 'her', 'hers', 'herself', 'it', \"it's\", 'its', 'itself', 'they', 'them', 'their', 'theirs', 'themselves', 'what', 'which', 'who', 'whom', 'this', 'that', \"that'll\", 'these', 'those', 'am', 'is', 'are', 'was', 'were', 'be', 'been', 'being', 'have', 'has', 'had', 'having', 'do', 'does', 'did', 'doing', 'a', 'an', 'the', 'and', 'but', 'if', 'or', 'because', 'as', 'until', 'while', 'of', 'at', 'by', 'for', 'with', 'about', 'against', 'between', 'into', 'through', 'during', 'before', 'after', 'above', 'below', 'to', 'from', 'up', 'down', 'in', 'out', 'on', 'off', 'over', 'under', 'again', 'further', 'then', 'once', 'here', 'there', 'when', 'where', 'why', 'how', 'all', 'any', 'both', 'each', 'few', 'more', 'most', 'other', 'some', 'such', 'no', 'nor', 'not', 'only', 'own', 'same', 'so', 'than', 'too', 'very', 's', 't', 'can', 'will', 'just', 'don', \"don't\", 'should', \"should've\", 'now', 'd', 'll', 'm', 'o', 're', 've', 'y', 'ain', 'aren', \"aren't\", 'couldn', \"couldn't\", 'didn', \"didn't\", 'doesn', \"doesn't\", 'hadn', \"hadn't\", 'hasn', \"hasn't\", 'haven', \"haven't\", 'isn', \"isn't\", 'ma', 'mightn', \"mightn't\", 'mustn', \"mustn't\", 'needn', \"needn't\", 'shan', \"shan't\", 'shouldn', \"shouldn't\", 'wasn', \"wasn't\", 'weren', \"weren't\", 'won', \"won't\", 'wouldn', \"wouldn't\"]\n"
          ]
        }
      ]
    },
    {
      "cell_type": "markdown",
      "source": [
        "# Importing the dataset"
      ],
      "metadata": {
        "id": "01cRRbNCXMLa"
      }
    },
    {
      "cell_type": "code",
      "source": [
        "train_data = pd.read_csv('/content/train.csv', skiprows=[1976])\n"
      ],
      "metadata": {
        "id": "WDOhO4JbZhMT"
      },
      "execution_count": 72,
      "outputs": []
    },
    {
      "cell_type": "code",
      "source": [
        "train_data.shape"
      ],
      "metadata": {
        "colab": {
          "base_uri": "https://localhost:8080/"
        },
        "id": "1puGkqNwfuTL",
        "outputId": "75c25b77-6329-4737-c407-feb148f602d5"
      },
      "execution_count": 73,
      "outputs": [
        {
          "output_type": "execute_result",
          "data": {
            "text/plain": [
              "(1975, 5)"
            ]
          },
          "metadata": {},
          "execution_count": 73
        }
      ]
    },
    {
      "cell_type": "code",
      "source": [
        "train_data.head()"
      ],
      "metadata": {
        "colab": {
          "base_uri": "https://localhost:8080/",
          "height": 0
        },
        "id": "FQDJx4vPf71x",
        "outputId": "a123660c-65b8-4cfc-e85f-9af6658d4239"
      },
      "execution_count": 74,
      "outputs": [
        {
          "output_type": "execute_result",
          "data": {
            "text/plain": [
              "   id                                              title              author  \\\n",
              "0   0  House Dem Aide: We Didn’t Even See Comey’s Let...       Darrell Lucus   \n",
              "1   1  FLYNN: Hillary Clinton, Big Woman on Campus - ...     Daniel J. Flynn   \n",
              "2   2                  Why the Truth Might Get You Fired  Consortiumnews.com   \n",
              "3   3  15 Civilians Killed In Single US Airstrike Hav...     Jessica Purkiss   \n",
              "4   4  Iranian woman jailed for fictional unpublished...      Howard Portnoy   \n",
              "\n",
              "                                                text  label  \n",
              "0  House Dem Aide: We Didn’t Even See Comey’s Let...      1  \n",
              "1  Ever get the feeling your life circles the rou...      0  \n",
              "2  Why the Truth Might Get You Fired October 29, ...      1  \n",
              "3  Videos 15 Civilians Killed In Single US Airstr...      1  \n",
              "4  Print \\nAn Iranian woman has been sentenced to...      1  "
            ],
            "text/html": [
              "\n",
              "  <div id=\"df-078f175a-7359-4e56-9f49-99aa1e764192\" class=\"colab-df-container\">\n",
              "    <div>\n",
              "<style scoped>\n",
              "    .dataframe tbody tr th:only-of-type {\n",
              "        vertical-align: middle;\n",
              "    }\n",
              "\n",
              "    .dataframe tbody tr th {\n",
              "        vertical-align: top;\n",
              "    }\n",
              "\n",
              "    .dataframe thead th {\n",
              "        text-align: right;\n",
              "    }\n",
              "</style>\n",
              "<table border=\"1\" class=\"dataframe\">\n",
              "  <thead>\n",
              "    <tr style=\"text-align: right;\">\n",
              "      <th></th>\n",
              "      <th>id</th>\n",
              "      <th>title</th>\n",
              "      <th>author</th>\n",
              "      <th>text</th>\n",
              "      <th>label</th>\n",
              "    </tr>\n",
              "  </thead>\n",
              "  <tbody>\n",
              "    <tr>\n",
              "      <th>0</th>\n",
              "      <td>0</td>\n",
              "      <td>House Dem Aide: We Didn’t Even See Comey’s Let...</td>\n",
              "      <td>Darrell Lucus</td>\n",
              "      <td>House Dem Aide: We Didn’t Even See Comey’s Let...</td>\n",
              "      <td>1</td>\n",
              "    </tr>\n",
              "    <tr>\n",
              "      <th>1</th>\n",
              "      <td>1</td>\n",
              "      <td>FLYNN: Hillary Clinton, Big Woman on Campus - ...</td>\n",
              "      <td>Daniel J. Flynn</td>\n",
              "      <td>Ever get the feeling your life circles the rou...</td>\n",
              "      <td>0</td>\n",
              "    </tr>\n",
              "    <tr>\n",
              "      <th>2</th>\n",
              "      <td>2</td>\n",
              "      <td>Why the Truth Might Get You Fired</td>\n",
              "      <td>Consortiumnews.com</td>\n",
              "      <td>Why the Truth Might Get You Fired October 29, ...</td>\n",
              "      <td>1</td>\n",
              "    </tr>\n",
              "    <tr>\n",
              "      <th>3</th>\n",
              "      <td>3</td>\n",
              "      <td>15 Civilians Killed In Single US Airstrike Hav...</td>\n",
              "      <td>Jessica Purkiss</td>\n",
              "      <td>Videos 15 Civilians Killed In Single US Airstr...</td>\n",
              "      <td>1</td>\n",
              "    </tr>\n",
              "    <tr>\n",
              "      <th>4</th>\n",
              "      <td>4</td>\n",
              "      <td>Iranian woman jailed for fictional unpublished...</td>\n",
              "      <td>Howard Portnoy</td>\n",
              "      <td>Print \\nAn Iranian woman has been sentenced to...</td>\n",
              "      <td>1</td>\n",
              "    </tr>\n",
              "  </tbody>\n",
              "</table>\n",
              "</div>\n",
              "    <div class=\"colab-df-buttons\">\n",
              "\n",
              "  <div class=\"colab-df-container\">\n",
              "    <button class=\"colab-df-convert\" onclick=\"convertToInteractive('df-078f175a-7359-4e56-9f49-99aa1e764192')\"\n",
              "            title=\"Convert this dataframe to an interactive table.\"\n",
              "            style=\"display:none;\">\n",
              "\n",
              "  <svg xmlns=\"http://www.w3.org/2000/svg\" height=\"24px\" viewBox=\"0 -960 960 960\">\n",
              "    <path d=\"M120-120v-720h720v720H120Zm60-500h600v-160H180v160Zm220 220h160v-160H400v160Zm0 220h160v-160H400v160ZM180-400h160v-160H180v160Zm440 0h160v-160H620v160ZM180-180h160v-160H180v160Zm440 0h160v-160H620v160Z\"/>\n",
              "  </svg>\n",
              "    </button>\n",
              "\n",
              "  <style>\n",
              "    .colab-df-container {\n",
              "      display:flex;\n",
              "      gap: 12px;\n",
              "    }\n",
              "\n",
              "    .colab-df-convert {\n",
              "      background-color: #E8F0FE;\n",
              "      border: none;\n",
              "      border-radius: 50%;\n",
              "      cursor: pointer;\n",
              "      display: none;\n",
              "      fill: #1967D2;\n",
              "      height: 32px;\n",
              "      padding: 0 0 0 0;\n",
              "      width: 32px;\n",
              "    }\n",
              "\n",
              "    .colab-df-convert:hover {\n",
              "      background-color: #E2EBFA;\n",
              "      box-shadow: 0px 1px 2px rgba(60, 64, 67, 0.3), 0px 1px 3px 1px rgba(60, 64, 67, 0.15);\n",
              "      fill: #174EA6;\n",
              "    }\n",
              "\n",
              "    .colab-df-buttons div {\n",
              "      margin-bottom: 4px;\n",
              "    }\n",
              "\n",
              "    [theme=dark] .colab-df-convert {\n",
              "      background-color: #3B4455;\n",
              "      fill: #D2E3FC;\n",
              "    }\n",
              "\n",
              "    [theme=dark] .colab-df-convert:hover {\n",
              "      background-color: #434B5C;\n",
              "      box-shadow: 0px 1px 3px 1px rgba(0, 0, 0, 0.15);\n",
              "      filter: drop-shadow(0px 1px 2px rgba(0, 0, 0, 0.3));\n",
              "      fill: #FFFFFF;\n",
              "    }\n",
              "  </style>\n",
              "\n",
              "    <script>\n",
              "      const buttonEl =\n",
              "        document.querySelector('#df-078f175a-7359-4e56-9f49-99aa1e764192 button.colab-df-convert');\n",
              "      buttonEl.style.display =\n",
              "        google.colab.kernel.accessAllowed ? 'block' : 'none';\n",
              "\n",
              "      async function convertToInteractive(key) {\n",
              "        const element = document.querySelector('#df-078f175a-7359-4e56-9f49-99aa1e764192');\n",
              "        const dataTable =\n",
              "          await google.colab.kernel.invokeFunction('convertToInteractive',\n",
              "                                                    [key], {});\n",
              "        if (!dataTable) return;\n",
              "\n",
              "        const docLinkHtml = 'Like what you see? Visit the ' +\n",
              "          '<a target=\"_blank\" href=https://colab.research.google.com/notebooks/data_table.ipynb>data table notebook</a>'\n",
              "          + ' to learn more about interactive tables.';\n",
              "        element.innerHTML = '';\n",
              "        dataTable['output_type'] = 'display_data';\n",
              "        await google.colab.output.renderOutput(dataTable, element);\n",
              "        const docLink = document.createElement('div');\n",
              "        docLink.innerHTML = docLinkHtml;\n",
              "        element.appendChild(docLink);\n",
              "      }\n",
              "    </script>\n",
              "  </div>\n",
              "\n",
              "\n",
              "<div id=\"df-b416a17d-145e-4f45-9730-d73436edb761\">\n",
              "  <button class=\"colab-df-quickchart\" onclick=\"quickchart('df-b416a17d-145e-4f45-9730-d73436edb761')\"\n",
              "            title=\"Suggest charts\"\n",
              "            style=\"display:none;\">\n",
              "\n",
              "<svg xmlns=\"http://www.w3.org/2000/svg\" height=\"24px\"viewBox=\"0 0 24 24\"\n",
              "     width=\"24px\">\n",
              "    <g>\n",
              "        <path d=\"M19 3H5c-1.1 0-2 .9-2 2v14c0 1.1.9 2 2 2h14c1.1 0 2-.9 2-2V5c0-1.1-.9-2-2-2zM9 17H7v-7h2v7zm4 0h-2V7h2v10zm4 0h-2v-4h2v4z\"/>\n",
              "    </g>\n",
              "</svg>\n",
              "  </button>\n",
              "\n",
              "<style>\n",
              "  .colab-df-quickchart {\n",
              "      --bg-color: #E8F0FE;\n",
              "      --fill-color: #1967D2;\n",
              "      --hover-bg-color: #E2EBFA;\n",
              "      --hover-fill-color: #174EA6;\n",
              "      --disabled-fill-color: #AAA;\n",
              "      --disabled-bg-color: #DDD;\n",
              "  }\n",
              "\n",
              "  [theme=dark] .colab-df-quickchart {\n",
              "      --bg-color: #3B4455;\n",
              "      --fill-color: #D2E3FC;\n",
              "      --hover-bg-color: #434B5C;\n",
              "      --hover-fill-color: #FFFFFF;\n",
              "      --disabled-bg-color: #3B4455;\n",
              "      --disabled-fill-color: #666;\n",
              "  }\n",
              "\n",
              "  .colab-df-quickchart {\n",
              "    background-color: var(--bg-color);\n",
              "    border: none;\n",
              "    border-radius: 50%;\n",
              "    cursor: pointer;\n",
              "    display: none;\n",
              "    fill: var(--fill-color);\n",
              "    height: 32px;\n",
              "    padding: 0;\n",
              "    width: 32px;\n",
              "  }\n",
              "\n",
              "  .colab-df-quickchart:hover {\n",
              "    background-color: var(--hover-bg-color);\n",
              "    box-shadow: 0 1px 2px rgba(60, 64, 67, 0.3), 0 1px 3px 1px rgba(60, 64, 67, 0.15);\n",
              "    fill: var(--button-hover-fill-color);\n",
              "  }\n",
              "\n",
              "  .colab-df-quickchart-complete:disabled,\n",
              "  .colab-df-quickchart-complete:disabled:hover {\n",
              "    background-color: var(--disabled-bg-color);\n",
              "    fill: var(--disabled-fill-color);\n",
              "    box-shadow: none;\n",
              "  }\n",
              "\n",
              "  .colab-df-spinner {\n",
              "    border: 2px solid var(--fill-color);\n",
              "    border-color: transparent;\n",
              "    border-bottom-color: var(--fill-color);\n",
              "    animation:\n",
              "      spin 1s steps(1) infinite;\n",
              "  }\n",
              "\n",
              "  @keyframes spin {\n",
              "    0% {\n",
              "      border-color: transparent;\n",
              "      border-bottom-color: var(--fill-color);\n",
              "      border-left-color: var(--fill-color);\n",
              "    }\n",
              "    20% {\n",
              "      border-color: transparent;\n",
              "      border-left-color: var(--fill-color);\n",
              "      border-top-color: var(--fill-color);\n",
              "    }\n",
              "    30% {\n",
              "      border-color: transparent;\n",
              "      border-left-color: var(--fill-color);\n",
              "      border-top-color: var(--fill-color);\n",
              "      border-right-color: var(--fill-color);\n",
              "    }\n",
              "    40% {\n",
              "      border-color: transparent;\n",
              "      border-right-color: var(--fill-color);\n",
              "      border-top-color: var(--fill-color);\n",
              "    }\n",
              "    60% {\n",
              "      border-color: transparent;\n",
              "      border-right-color: var(--fill-color);\n",
              "    }\n",
              "    80% {\n",
              "      border-color: transparent;\n",
              "      border-right-color: var(--fill-color);\n",
              "      border-bottom-color: var(--fill-color);\n",
              "    }\n",
              "    90% {\n",
              "      border-color: transparent;\n",
              "      border-bottom-color: var(--fill-color);\n",
              "    }\n",
              "  }\n",
              "</style>\n",
              "\n",
              "  <script>\n",
              "    async function quickchart(key) {\n",
              "      const quickchartButtonEl =\n",
              "        document.querySelector('#' + key + ' button');\n",
              "      quickchartButtonEl.disabled = true;  // To prevent multiple clicks.\n",
              "      quickchartButtonEl.classList.add('colab-df-spinner');\n",
              "      try {\n",
              "        const charts = await google.colab.kernel.invokeFunction(\n",
              "            'suggestCharts', [key], {});\n",
              "      } catch (error) {\n",
              "        console.error('Error during call to suggestCharts:', error);\n",
              "      }\n",
              "      quickchartButtonEl.classList.remove('colab-df-spinner');\n",
              "      quickchartButtonEl.classList.add('colab-df-quickchart-complete');\n",
              "    }\n",
              "    (() => {\n",
              "      let quickchartButtonEl =\n",
              "        document.querySelector('#df-b416a17d-145e-4f45-9730-d73436edb761 button');\n",
              "      quickchartButtonEl.style.display =\n",
              "        google.colab.kernel.accessAllowed ? 'block' : 'none';\n",
              "    })();\n",
              "  </script>\n",
              "</div>\n",
              "\n",
              "    </div>\n",
              "  </div>\n"
            ],
            "application/vnd.google.colaboratory.intrinsic+json": {
              "type": "dataframe",
              "variable_name": "train_data",
              "summary": "{\n  \"name\": \"train_data\",\n  \"rows\": 1975,\n  \"fields\": [\n    {\n      \"column\": \"id\",\n      \"properties\": {\n        \"dtype\": \"number\",\n        \"std\": 570,\n        \"min\": 0,\n        \"max\": 1974,\n        \"num_unique_values\": 1975,\n        \"samples\": [\n          1825,\n          1735,\n          678\n        ],\n        \"semantic_type\": \"\",\n        \"description\": \"\"\n      }\n    },\n    {\n      \"column\": \"title\",\n      \"properties\": {\n        \"dtype\": \"string\",\n        \"num_unique_values\": 1919,\n        \"samples\": [\n          \"Republicans: Thanks a Lot!\",\n          \"Hate Hoax: Black Teen Arrested for Posting Fake KKK Threats - Breitbart\",\n          \"Bill Clinton\\u2019s Lover: He Called Ruthless Hillary \\u2018The Warden\\u2019\"\n        ],\n        \"semantic_type\": \"\",\n        \"description\": \"\"\n      }\n    },\n    {\n      \"column\": \"author\",\n      \"properties\": {\n        \"dtype\": \"category\",\n        \"num_unique_values\": 896,\n        \"samples\": [\n          \"Doug P.\",\n          \"IHTT\",\n          \"Ben Tanosborn\"\n        ],\n        \"semantic_type\": \"\",\n        \"description\": \"\"\n      }\n    },\n    {\n      \"column\": \"text\",\n      \"properties\": {\n        \"dtype\": \"string\",\n        \"num_unique_values\": 1954,\n        \"samples\": [\n          \"NEW DETAILS: Trump\\u2019s Gaffe With Khan Family Was Even Worse Than We Thought (VIDEO) By Natalie Dailey on October 29, 2016 Subscribe \\nRepublican presidential nominee Donald Trump made a fool out of himself at and after the Democratic National Convention. Trump got into a feud with the Khan family, a Gold Star family who spoke about him. \\nTrump apparently didn\\u2019t know what a Gold Star family is. This term is generally used to describe families who have lost a loved one in the military. \\nPaul Manafort, former advisor to George H.W. Bush\\u2019s, Gerald Ford\\u2019s, and Bob Dole\\u2019s presidential campaigns, became an advisor for the Donald Trump campaign during the general election season. His plan was for Trump to go low profile, so the media would then focus on his rival, Democratic presidential nominee, Hillary Clinton. \\nManafort was mad when Trump went after the Khan family instead of focusing on the issues. He said: \\u201cThe election is about the American people, it\\u2019s not about you.\\u201d \\nNow that we have less than two weeks until the election, Trump wants to rehash some of his craziest feuds. Trump said that if he were president Humayun Khan would still be alive. Khizr said : \\u201cThis is the most cruel thing you can say to grieving parents, that if I was there this would not have happened. There\\u2019s no sincerity in those remarks \\u2026 This is one character that a leader must have to be the leader of a great country, to be the commander-in-chief of the Armed Forces of the United States: empathy. And this person totally lacks that.\\u201d \\nKhan is now joining Democratic presidential nominee Hillary Clinton on the campaign trail. \\nCheck out the campaign ad he made for the Clinton campaign: \\nAnd watch Khan\\u2019s entire speech from the convention : \\nFeatured image via YouTube screenshot . About Natalie Dailey \\nHi, I'm from Huntsville, AL. I'm a Liberal living in the Bible Belt, which can be quite challenging at times. I'm passionate about many issues including mental health, women's rights, gay rights, and many others. Check out my blog abravealabamaatheist.com. Check out my other blog weneedtotalkaboutmentalhealth.com Connect\",\n          \"HONG KONG  \\u2014   A Hong Kong judge on Tuesday sentenced a British banker to life in prison for murdering two Indonesian women at his luxury apartment in 2014, bringing to a close a gruesome case that cast a spotlight on social inequality and the excesses of the financial sector in one of Asia\\u2019s richest cities. A   jury found the banker, Rurik George Caton Jutting, guilty of double murder after deliberating for less than a day in High Court. The decision was unanimous. \\u201cI accept this as a just and appropriate judgment,\\u201d Mr. Jutting, 31, said in a statement that his lawyer read after the verdict was announced, according to a report in The South China Morning Post. \\u201cThe evil I have inflicted can never be remedied by me in words or by action. \\u201d Murder convictions carry a mandatory life sentence in Hong Kong, a semiautonomous Chinese city that has its own legal system. Mr. Jutting had pleaded guilty to a lesser charge of manslaughter on the grounds of \\u201cdiminished responsibility,\\u201d according to reports in the local news media. His lawyers said in court that the claim was based on his client\\u2019s struggles with narcissism, sexual sadism and substance abuse. A government psychiatrist rejected that argument during the trial, saying that while cocaine and alcohol had impaired Mr. Jutting\\u2019s   he was still responsible for the murders. Mr. Jutting, who had worked for Bank of America in Hong Kong and studied at Cambridge University in Britain, killed the women at his   in the Wan Chai neighborhood, a popular nightclub district. He tortured one, Sumarti Ningsih, 23, for three days before cutting her throat with a serrated knife and leaving her remains in a suitcase on his balcony, news reports said, citing a prosecutor\\u2019s statements at the trial. He had met her through an internet forum. He slashed the throat of the second, Seneng Mujiasih, 26, whom he had met at a bar, after she noticed a rope gag in the apartment and began shouting. The case made headlines around the world, in part because of the grotesque nature of the killings, but also because Hong Kong is generally considered to be among the safest cities in Asia. Both women came to Hong Kong as domestic workers. Ms. Sumarti later returned on a tourist visa, and Ms. Seneng\\u2019s domestic worker visa had lapsed. The city has more than 300, 000 foreign domestic workers, primarily from Indonesia and the Philippines. They are subject to more legal restrictions than other expatriate workers, including bankers. Advocacy groups say that employers and the government routinely treat the workers like   citizens and that they are vulnerable to abuse. Suyitno, Ms. Sumarti\\u2019s older brother, who goes by one name, said in a statement on Tuesday that she came from a farming family and that she came to Hong Kong in early 2011. Mr. Suyitno said in the statement, issued before the verdict, that the family\\u2019s economic condition had worsened since Ms. Sumarti\\u2019s death because she had been its only breadwinner and that he hoped Mr. Jutting would be \\u201cpunished severely. \\u201d He also demanded that the Indonesian government pay for the education of Ms. Sumarti\\u2019s    son. \\u201cWe have no more income to ensure his education,\\u201d he said. The Indonesian Consulate in Hong Kong did not immediately respond to a request for comment. In a joint statement after the verdict, the victims\\u2019 families said they felt relieved. \\u201cHowever, both families are very desperate because of their loss and worry for their future,\\u201d the families said in the statement, which was provided by the Indonesian Migrant Workers Union in Hong Kong. \\u201cThey hope for proper compensation from Rurik Jutting. \\u201d Yustina, a friend of Ms. Sumarti\\u2019s and a former domestic worker in Hong Kong who goes by one name, said in a telephone interview on Tuesday that she was not comforted by the verdict. \\u201cWhat about my friend?\\u201d Ms. Yustina said. \\u201cShe\\u2019s gone forever. \\u201d\",\n          \"Writing with pen and paper hailed as latest twatty show-off thing to do 15-11-16 SITTING in a cafe with a notepad instead of a computer is the new twatty thing to do, it has been confirmed. All UK cafes now have at least one person staring listlessly at a Mac in them, prompting people at the cutting edge of cool to abandon their laptops for something simpler yet just as annoying. Self-proclaimed cool person Nikki Hollis said: \\u201cThere\\u2019s something really soulless about looking at a screen when the beautiful world is happening all around you, which is why I\\u2019ve opted for this charming retro style of recording my important thoughts. \\u201cHaving not actually written anything down for several years, my handwriting is comparable to that of a troubled six-year-old, but I find that it gives it a sense of childlike wonder. \\u201cI really love going back to basics, and for me writing a blog about internet marketing techniques in longhand has a beautiful authenticity to it. \\u201cIt\\u2019s a massive waste of time because I still have to type it all up and email it to my boss when I get home, but I know I look winsome and cute chewing on a pen, which is something that you can\\u2019t really do with a laptop. \\u201cI know. I\\u2019ve tried.\\u201d \\nShare:\"\n        ],\n        \"semantic_type\": \"\",\n        \"description\": \"\"\n      }\n    },\n    {\n      \"column\": \"label\",\n      \"properties\": {\n        \"dtype\": \"number\",\n        \"std\": 0,\n        \"min\": 0,\n        \"max\": 1,\n        \"num_unique_values\": 2,\n        \"samples\": [\n          0,\n          1\n        ],\n        \"semantic_type\": \"\",\n        \"description\": \"\"\n      }\n    }\n  ]\n}"
            }
          },
          "metadata": {},
          "execution_count": 74
        }
      ]
    },
    {
      "cell_type": "markdown",
      "source": [
        "# Feature engineering"
      ],
      "metadata": {
        "id": "jRH2C8vGnFCO"
      }
    },
    {
      "cell_type": "code",
      "source": [
        "train_data.isnull().sum()"
      ],
      "metadata": {
        "colab": {
          "base_uri": "https://localhost:8080/"
        },
        "id": "8LSVfx9MhFTh",
        "outputId": "03ae5473-c3d8-4822-c583-af1fb46999eb"
      },
      "execution_count": 75,
      "outputs": [
        {
          "output_type": "execute_result",
          "data": {
            "text/plain": [
              "id          0\n",
              "title      51\n",
              "author    209\n",
              "text        4\n",
              "label       0\n",
              "dtype: int64"
            ]
          },
          "metadata": {},
          "execution_count": 75
        }
      ]
    },
    {
      "cell_type": "code",
      "source": [
        "train_data.fillna('')\n"
      ],
      "metadata": {
        "colab": {
          "base_uri": "https://localhost:8080/",
          "height": 770
        },
        "id": "vBVoSXNSnCB9",
        "outputId": "2ecef15d-c3f1-4564-f3d8-da5fdac29b26"
      },
      "execution_count": 76,
      "outputs": [
        {
          "output_type": "execute_result",
          "data": {
            "text/plain": [
              "        id                                              title  \\\n",
              "0        0  House Dem Aide: We Didn’t Even See Comey’s Let...   \n",
              "1        1  FLYNN: Hillary Clinton, Big Woman on Campus - ...   \n",
              "2        2                  Why the Truth Might Get You Fired   \n",
              "3        3  15 Civilians Killed In Single US Airstrike Hav...   \n",
              "4        4  Iranian woman jailed for fictional unpublished...   \n",
              "...    ...                                                ...   \n",
              "1970  1970  USA – China: Who Is Responsible for North Kore...   \n",
              "1971  1971  U.S. Open Quieted Those Calling for a Roof. No...   \n",
              "1972  1972  Australia Is Not as Down Under as Everyone Thi...   \n",
              "1973  1973  7 Tory horror film posters to send a chill dow...   \n",
              "1974  1974                                                      \n",
              "\n",
              "                                  author  \\\n",
              "0                          Darrell Lucus   \n",
              "1                        Daniel J. Flynn   \n",
              "2                     Consortiumnews.com   \n",
              "3                        Jessica Purkiss   \n",
              "4                         Howard Portnoy   \n",
              "...                                  ...   \n",
              "1970                              Author   \n",
              "1971  David Waldstein and Ben Rothenberg   \n",
              "1972                      Michelle Innis   \n",
              "1973                          Poke Staff   \n",
              "1974                           Anonymous   \n",
              "\n",
              "                                                   text  label  \n",
              "0     House Dem Aide: We Didn’t Even See Comey’s Let...      1  \n",
              "1     Ever get the feeling your life circles the rou...      0  \n",
              "2     Why the Truth Might Get You Fired October 29, ...      1  \n",
              "3     Videos 15 Civilians Killed In Single US Airstr...      1  \n",
              "4     Print \\nAn Iranian woman has been sentenced to...      1  \n",
              "...                                                 ...    ...  \n",
              "1970  Country: China North Korea’s announcements of ...      1  \n",
              "1971  The United States Open added a new $150 millio...      0  \n",
              "1972  SYDNEY, Australia  —   That map of Australia y...      0  \n",
              "1973  Next Swipe left/right 7 Tory horror film poste...      1  \n",
              "1974  Same people all the time , i dont know how you...      1  \n",
              "\n",
              "[1975 rows x 5 columns]"
            ],
            "text/html": [
              "\n",
              "  <div id=\"df-8483f567-e678-4132-ba96-11b8fa769c6c\" class=\"colab-df-container\">\n",
              "    <div>\n",
              "<style scoped>\n",
              "    .dataframe tbody tr th:only-of-type {\n",
              "        vertical-align: middle;\n",
              "    }\n",
              "\n",
              "    .dataframe tbody tr th {\n",
              "        vertical-align: top;\n",
              "    }\n",
              "\n",
              "    .dataframe thead th {\n",
              "        text-align: right;\n",
              "    }\n",
              "</style>\n",
              "<table border=\"1\" class=\"dataframe\">\n",
              "  <thead>\n",
              "    <tr style=\"text-align: right;\">\n",
              "      <th></th>\n",
              "      <th>id</th>\n",
              "      <th>title</th>\n",
              "      <th>author</th>\n",
              "      <th>text</th>\n",
              "      <th>label</th>\n",
              "    </tr>\n",
              "  </thead>\n",
              "  <tbody>\n",
              "    <tr>\n",
              "      <th>0</th>\n",
              "      <td>0</td>\n",
              "      <td>House Dem Aide: We Didn’t Even See Comey’s Let...</td>\n",
              "      <td>Darrell Lucus</td>\n",
              "      <td>House Dem Aide: We Didn’t Even See Comey’s Let...</td>\n",
              "      <td>1</td>\n",
              "    </tr>\n",
              "    <tr>\n",
              "      <th>1</th>\n",
              "      <td>1</td>\n",
              "      <td>FLYNN: Hillary Clinton, Big Woman on Campus - ...</td>\n",
              "      <td>Daniel J. Flynn</td>\n",
              "      <td>Ever get the feeling your life circles the rou...</td>\n",
              "      <td>0</td>\n",
              "    </tr>\n",
              "    <tr>\n",
              "      <th>2</th>\n",
              "      <td>2</td>\n",
              "      <td>Why the Truth Might Get You Fired</td>\n",
              "      <td>Consortiumnews.com</td>\n",
              "      <td>Why the Truth Might Get You Fired October 29, ...</td>\n",
              "      <td>1</td>\n",
              "    </tr>\n",
              "    <tr>\n",
              "      <th>3</th>\n",
              "      <td>3</td>\n",
              "      <td>15 Civilians Killed In Single US Airstrike Hav...</td>\n",
              "      <td>Jessica Purkiss</td>\n",
              "      <td>Videos 15 Civilians Killed In Single US Airstr...</td>\n",
              "      <td>1</td>\n",
              "    </tr>\n",
              "    <tr>\n",
              "      <th>4</th>\n",
              "      <td>4</td>\n",
              "      <td>Iranian woman jailed for fictional unpublished...</td>\n",
              "      <td>Howard Portnoy</td>\n",
              "      <td>Print \\nAn Iranian woman has been sentenced to...</td>\n",
              "      <td>1</td>\n",
              "    </tr>\n",
              "    <tr>\n",
              "      <th>...</th>\n",
              "      <td>...</td>\n",
              "      <td>...</td>\n",
              "      <td>...</td>\n",
              "      <td>...</td>\n",
              "      <td>...</td>\n",
              "    </tr>\n",
              "    <tr>\n",
              "      <th>1970</th>\n",
              "      <td>1970</td>\n",
              "      <td>USA – China: Who Is Responsible for North Kore...</td>\n",
              "      <td>Author</td>\n",
              "      <td>Country: China North Korea’s announcements of ...</td>\n",
              "      <td>1</td>\n",
              "    </tr>\n",
              "    <tr>\n",
              "      <th>1971</th>\n",
              "      <td>1971</td>\n",
              "      <td>U.S. Open Quieted Those Calling for a Roof. No...</td>\n",
              "      <td>David Waldstein and Ben Rothenberg</td>\n",
              "      <td>The United States Open added a new $150 millio...</td>\n",
              "      <td>0</td>\n",
              "    </tr>\n",
              "    <tr>\n",
              "      <th>1972</th>\n",
              "      <td>1972</td>\n",
              "      <td>Australia Is Not as Down Under as Everyone Thi...</td>\n",
              "      <td>Michelle Innis</td>\n",
              "      <td>SYDNEY, Australia  —   That map of Australia y...</td>\n",
              "      <td>0</td>\n",
              "    </tr>\n",
              "    <tr>\n",
              "      <th>1973</th>\n",
              "      <td>1973</td>\n",
              "      <td>7 Tory horror film posters to send a chill dow...</td>\n",
              "      <td>Poke Staff</td>\n",
              "      <td>Next Swipe left/right 7 Tory horror film poste...</td>\n",
              "      <td>1</td>\n",
              "    </tr>\n",
              "    <tr>\n",
              "      <th>1974</th>\n",
              "      <td>1974</td>\n",
              "      <td></td>\n",
              "      <td>Anonymous</td>\n",
              "      <td>Same people all the time , i dont know how you...</td>\n",
              "      <td>1</td>\n",
              "    </tr>\n",
              "  </tbody>\n",
              "</table>\n",
              "<p>1975 rows × 5 columns</p>\n",
              "</div>\n",
              "    <div class=\"colab-df-buttons\">\n",
              "\n",
              "  <div class=\"colab-df-container\">\n",
              "    <button class=\"colab-df-convert\" onclick=\"convertToInteractive('df-8483f567-e678-4132-ba96-11b8fa769c6c')\"\n",
              "            title=\"Convert this dataframe to an interactive table.\"\n",
              "            style=\"display:none;\">\n",
              "\n",
              "  <svg xmlns=\"http://www.w3.org/2000/svg\" height=\"24px\" viewBox=\"0 -960 960 960\">\n",
              "    <path d=\"M120-120v-720h720v720H120Zm60-500h600v-160H180v160Zm220 220h160v-160H400v160Zm0 220h160v-160H400v160ZM180-400h160v-160H180v160Zm440 0h160v-160H620v160ZM180-180h160v-160H180v160Zm440 0h160v-160H620v160Z\"/>\n",
              "  </svg>\n",
              "    </button>\n",
              "\n",
              "  <style>\n",
              "    .colab-df-container {\n",
              "      display:flex;\n",
              "      gap: 12px;\n",
              "    }\n",
              "\n",
              "    .colab-df-convert {\n",
              "      background-color: #E8F0FE;\n",
              "      border: none;\n",
              "      border-radius: 50%;\n",
              "      cursor: pointer;\n",
              "      display: none;\n",
              "      fill: #1967D2;\n",
              "      height: 32px;\n",
              "      padding: 0 0 0 0;\n",
              "      width: 32px;\n",
              "    }\n",
              "\n",
              "    .colab-df-convert:hover {\n",
              "      background-color: #E2EBFA;\n",
              "      box-shadow: 0px 1px 2px rgba(60, 64, 67, 0.3), 0px 1px 3px 1px rgba(60, 64, 67, 0.15);\n",
              "      fill: #174EA6;\n",
              "    }\n",
              "\n",
              "    .colab-df-buttons div {\n",
              "      margin-bottom: 4px;\n",
              "    }\n",
              "\n",
              "    [theme=dark] .colab-df-convert {\n",
              "      background-color: #3B4455;\n",
              "      fill: #D2E3FC;\n",
              "    }\n",
              "\n",
              "    [theme=dark] .colab-df-convert:hover {\n",
              "      background-color: #434B5C;\n",
              "      box-shadow: 0px 1px 3px 1px rgba(0, 0, 0, 0.15);\n",
              "      filter: drop-shadow(0px 1px 2px rgba(0, 0, 0, 0.3));\n",
              "      fill: #FFFFFF;\n",
              "    }\n",
              "  </style>\n",
              "\n",
              "    <script>\n",
              "      const buttonEl =\n",
              "        document.querySelector('#df-8483f567-e678-4132-ba96-11b8fa769c6c button.colab-df-convert');\n",
              "      buttonEl.style.display =\n",
              "        google.colab.kernel.accessAllowed ? 'block' : 'none';\n",
              "\n",
              "      async function convertToInteractive(key) {\n",
              "        const element = document.querySelector('#df-8483f567-e678-4132-ba96-11b8fa769c6c');\n",
              "        const dataTable =\n",
              "          await google.colab.kernel.invokeFunction('convertToInteractive',\n",
              "                                                    [key], {});\n",
              "        if (!dataTable) return;\n",
              "\n",
              "        const docLinkHtml = 'Like what you see? Visit the ' +\n",
              "          '<a target=\"_blank\" href=https://colab.research.google.com/notebooks/data_table.ipynb>data table notebook</a>'\n",
              "          + ' to learn more about interactive tables.';\n",
              "        element.innerHTML = '';\n",
              "        dataTable['output_type'] = 'display_data';\n",
              "        await google.colab.output.renderOutput(dataTable, element);\n",
              "        const docLink = document.createElement('div');\n",
              "        docLink.innerHTML = docLinkHtml;\n",
              "        element.appendChild(docLink);\n",
              "      }\n",
              "    </script>\n",
              "  </div>\n",
              "\n",
              "\n",
              "<div id=\"df-6fe5c926-b88b-4170-9666-0a6f0f526ccb\">\n",
              "  <button class=\"colab-df-quickchart\" onclick=\"quickchart('df-6fe5c926-b88b-4170-9666-0a6f0f526ccb')\"\n",
              "            title=\"Suggest charts\"\n",
              "            style=\"display:none;\">\n",
              "\n",
              "<svg xmlns=\"http://www.w3.org/2000/svg\" height=\"24px\"viewBox=\"0 0 24 24\"\n",
              "     width=\"24px\">\n",
              "    <g>\n",
              "        <path d=\"M19 3H5c-1.1 0-2 .9-2 2v14c0 1.1.9 2 2 2h14c1.1 0 2-.9 2-2V5c0-1.1-.9-2-2-2zM9 17H7v-7h2v7zm4 0h-2V7h2v10zm4 0h-2v-4h2v4z\"/>\n",
              "    </g>\n",
              "</svg>\n",
              "  </button>\n",
              "\n",
              "<style>\n",
              "  .colab-df-quickchart {\n",
              "      --bg-color: #E8F0FE;\n",
              "      --fill-color: #1967D2;\n",
              "      --hover-bg-color: #E2EBFA;\n",
              "      --hover-fill-color: #174EA6;\n",
              "      --disabled-fill-color: #AAA;\n",
              "      --disabled-bg-color: #DDD;\n",
              "  }\n",
              "\n",
              "  [theme=dark] .colab-df-quickchart {\n",
              "      --bg-color: #3B4455;\n",
              "      --fill-color: #D2E3FC;\n",
              "      --hover-bg-color: #434B5C;\n",
              "      --hover-fill-color: #FFFFFF;\n",
              "      --disabled-bg-color: #3B4455;\n",
              "      --disabled-fill-color: #666;\n",
              "  }\n",
              "\n",
              "  .colab-df-quickchart {\n",
              "    background-color: var(--bg-color);\n",
              "    border: none;\n",
              "    border-radius: 50%;\n",
              "    cursor: pointer;\n",
              "    display: none;\n",
              "    fill: var(--fill-color);\n",
              "    height: 32px;\n",
              "    padding: 0;\n",
              "    width: 32px;\n",
              "  }\n",
              "\n",
              "  .colab-df-quickchart:hover {\n",
              "    background-color: var(--hover-bg-color);\n",
              "    box-shadow: 0 1px 2px rgba(60, 64, 67, 0.3), 0 1px 3px 1px rgba(60, 64, 67, 0.15);\n",
              "    fill: var(--button-hover-fill-color);\n",
              "  }\n",
              "\n",
              "  .colab-df-quickchart-complete:disabled,\n",
              "  .colab-df-quickchart-complete:disabled:hover {\n",
              "    background-color: var(--disabled-bg-color);\n",
              "    fill: var(--disabled-fill-color);\n",
              "    box-shadow: none;\n",
              "  }\n",
              "\n",
              "  .colab-df-spinner {\n",
              "    border: 2px solid var(--fill-color);\n",
              "    border-color: transparent;\n",
              "    border-bottom-color: var(--fill-color);\n",
              "    animation:\n",
              "      spin 1s steps(1) infinite;\n",
              "  }\n",
              "\n",
              "  @keyframes spin {\n",
              "    0% {\n",
              "      border-color: transparent;\n",
              "      border-bottom-color: var(--fill-color);\n",
              "      border-left-color: var(--fill-color);\n",
              "    }\n",
              "    20% {\n",
              "      border-color: transparent;\n",
              "      border-left-color: var(--fill-color);\n",
              "      border-top-color: var(--fill-color);\n",
              "    }\n",
              "    30% {\n",
              "      border-color: transparent;\n",
              "      border-left-color: var(--fill-color);\n",
              "      border-top-color: var(--fill-color);\n",
              "      border-right-color: var(--fill-color);\n",
              "    }\n",
              "    40% {\n",
              "      border-color: transparent;\n",
              "      border-right-color: var(--fill-color);\n",
              "      border-top-color: var(--fill-color);\n",
              "    }\n",
              "    60% {\n",
              "      border-color: transparent;\n",
              "      border-right-color: var(--fill-color);\n",
              "    }\n",
              "    80% {\n",
              "      border-color: transparent;\n",
              "      border-right-color: var(--fill-color);\n",
              "      border-bottom-color: var(--fill-color);\n",
              "    }\n",
              "    90% {\n",
              "      border-color: transparent;\n",
              "      border-bottom-color: var(--fill-color);\n",
              "    }\n",
              "  }\n",
              "</style>\n",
              "\n",
              "  <script>\n",
              "    async function quickchart(key) {\n",
              "      const quickchartButtonEl =\n",
              "        document.querySelector('#' + key + ' button');\n",
              "      quickchartButtonEl.disabled = true;  // To prevent multiple clicks.\n",
              "      quickchartButtonEl.classList.add('colab-df-spinner');\n",
              "      try {\n",
              "        const charts = await google.colab.kernel.invokeFunction(\n",
              "            'suggestCharts', [key], {});\n",
              "      } catch (error) {\n",
              "        console.error('Error during call to suggestCharts:', error);\n",
              "      }\n",
              "      quickchartButtonEl.classList.remove('colab-df-spinner');\n",
              "      quickchartButtonEl.classList.add('colab-df-quickchart-complete');\n",
              "    }\n",
              "    (() => {\n",
              "      let quickchartButtonEl =\n",
              "        document.querySelector('#df-6fe5c926-b88b-4170-9666-0a6f0f526ccb button');\n",
              "      quickchartButtonEl.style.display =\n",
              "        google.colab.kernel.accessAllowed ? 'block' : 'none';\n",
              "    })();\n",
              "  </script>\n",
              "</div>\n",
              "\n",
              "    </div>\n",
              "  </div>\n"
            ],
            "application/vnd.google.colaboratory.intrinsic+json": {
              "type": "dataframe",
              "summary": "{\n  \"name\": \"train_data\",\n  \"rows\": 1975,\n  \"fields\": [\n    {\n      \"column\": \"id\",\n      \"properties\": {\n        \"dtype\": \"number\",\n        \"std\": 570,\n        \"min\": 0,\n        \"max\": 1974,\n        \"num_unique_values\": 1975,\n        \"samples\": [\n          1825,\n          1735,\n          678\n        ],\n        \"semantic_type\": \"\",\n        \"description\": \"\"\n      }\n    },\n    {\n      \"column\": \"title\",\n      \"properties\": {\n        \"dtype\": \"string\",\n        \"num_unique_values\": 1920,\n        \"samples\": [\n          \"5 Ridiculously Stupid Things Men Keep Doing For Women\",\n          \"\\u2018Time in the Box\\u2019: Young Rikers Inmates, Still in Isolation - The New York Times\",\n          \"Bill Clinton\\u2019s Lover: He Called Ruthless Hillary \\u2018The Warden\\u2019\"\n        ],\n        \"semantic_type\": \"\",\n        \"description\": \"\"\n      }\n    },\n    {\n      \"column\": \"author\",\n      \"properties\": {\n        \"dtype\": \"category\",\n        \"num_unique_values\": 897,\n        \"samples\": [\n          \"Ernest Partridge\",\n          \"Cartel Chronicles\",\n          \"curriec\"\n        ],\n        \"semantic_type\": \"\",\n        \"description\": \"\"\n      }\n    },\n    {\n      \"column\": \"text\",\n      \"properties\": {\n        \"dtype\": \"string\",\n        \"num_unique_values\": 1955,\n        \"samples\": [\n          \"NEW DETAILS: Trump\\u2019s Gaffe With Khan Family Was Even Worse Than We Thought (VIDEO) By Natalie Dailey on October 29, 2016 Subscribe \\nRepublican presidential nominee Donald Trump made a fool out of himself at and after the Democratic National Convention. Trump got into a feud with the Khan family, a Gold Star family who spoke about him. \\nTrump apparently didn\\u2019t know what a Gold Star family is. This term is generally used to describe families who have lost a loved one in the military. \\nPaul Manafort, former advisor to George H.W. Bush\\u2019s, Gerald Ford\\u2019s, and Bob Dole\\u2019s presidential campaigns, became an advisor for the Donald Trump campaign during the general election season. His plan was for Trump to go low profile, so the media would then focus on his rival, Democratic presidential nominee, Hillary Clinton. \\nManafort was mad when Trump went after the Khan family instead of focusing on the issues. He said: \\u201cThe election is about the American people, it\\u2019s not about you.\\u201d \\nNow that we have less than two weeks until the election, Trump wants to rehash some of his craziest feuds. Trump said that if he were president Humayun Khan would still be alive. Khizr said : \\u201cThis is the most cruel thing you can say to grieving parents, that if I was there this would not have happened. There\\u2019s no sincerity in those remarks \\u2026 This is one character that a leader must have to be the leader of a great country, to be the commander-in-chief of the Armed Forces of the United States: empathy. And this person totally lacks that.\\u201d \\nKhan is now joining Democratic presidential nominee Hillary Clinton on the campaign trail. \\nCheck out the campaign ad he made for the Clinton campaign: \\nAnd watch Khan\\u2019s entire speech from the convention : \\nFeatured image via YouTube screenshot . About Natalie Dailey \\nHi, I'm from Huntsville, AL. I'm a Liberal living in the Bible Belt, which can be quite challenging at times. I'm passionate about many issues including mental health, women's rights, gay rights, and many others. Check out my blog abravealabamaatheist.com. Check out my other blog weneedtotalkaboutmentalhealth.com Connect\",\n          \"HAMPTON, Va.  \\u2014   Growing up here in the 1970s, in the shadow of Langley Research Center, where workers helped revolutionize air flight and put Americans on the moon, Margot Lee Shetterly had a pretty fixed idea of what scientists looked like: They were middle class,   and worked at NASA, like her dad. It would be years before she learned that this was far from the American norm. And that many women in her hometown defied convention, too, by having vibrant, and by most standards, unusual careers. Black and female, dozens had worked at the space agency as mathematicians, often under Jim Crow laws, calculating crucial trajectories for rockets while being segregated from their white counterparts. For decades, as the space race made heroes out of   astronauts, the stories of those women went largely untold. Four of them are the subjects of Ms. Shetterly\\u2019s first book, \\u201cHidden Figures,\\u201d a history being released on Tuesday by William Morrow. The book garnered an early burst of attention because its movie version, starring Taraji P. Henson, Octavia Spencer and Janelle Mon\\u00e1e, is scheduled for a   release and set for an Oscars run. The movie rights were snapped up weeks after Ms. Shetterly sold her book proposal in 2014, and well before she started writing the book in earnest, a disorientingly fast, if exhilarating, turn. \\u201cThe thrilling thing to me about the book, and the movie, is this is an American story that we\\u2019re getting to see through the faces of these women,\\u201d Ms. Shetterly said during a recent visit to Hampton, which sits on the southeastern end of the Virginia Peninsula, surrounded by aquamarine waters and Navy ships. \\u201cIt\\u2019s just as American a story as if it were John Glenn or Alan Shepard telling it. \\u201d Ms. Shetterly happened upon the idea for the book six years ago, when she and her husband, Aran Shetterly, then living in Mexico, were visiting her parents here. The couple and Ms. Shetterly\\u2019s father were driving around in his minivan when he mentioned, very casually, that one of Ms. Shetterly\\u2019s former Sunday school teachers had worked as a mathematician at NASA, and that another woman she knew calculated rocket trajectories for famous astronauts. Ms. Shetterly remembers her husband perking up and asking why he had never heard this tale before. \\u201cI knew women who worked at NASA as mathematicians and engineers,\\u201d Ms. Shetterly said, \\u201cbut it took someone from the outside saying, \\u2018Wait a minute\\u2019 for me to see the story there. \\u201d (A book on a similar topic, Nathalia Holt\\u2019s \\u201cRise of the Rocket Girls,\\u201d about women working at the Jet Propulsion Laboratory in the \\u201940s and \\u201950s, was published in April.) Two of the women she would focus on are still living in the area. Christine Darden, now 73 and retired, had worked her way out of NASA\\u2019s computing pool to lead engineering research into sonic booms. Katherine Johnson, who recently turned 98, lives in a retirement home with her husband of 57 years, James A. Johnson, and is enjoying a recent surge of fame. She calculated rocket trajectories for the Mercury and Apollo missions, and last year President Obama personally awarded her the Presidential Medal of Freedom for her life\\u2019s work. Mrs. Darden and Mrs. Johnson still socialize, and on a recent summer day, made meltingly hot by a heat wave, met to play bridge at Mrs. Johnson\\u2019s apartment. (Mrs. Johnson and her partner won.) Ms. Shetterly was visiting too, and presented both women with an early copy of her book. \\u201cFantastic,\\u201d Mrs. Darden said, as Mrs. Johnson, whose eyesight is failing, peered at the cover with a slight smile. Yet asked how she felt about the coming film, in which she is played by Ms. Henson, in the starring role, Mrs. Johnson became solemn. (Mrs. Darden is not portrayed onscreen, as the film focuses on the years preceding her arrival at NASA.) \\u201cI shudder,\\u201d Mrs. Johnson said. She had heard, she said, that the movie might stretch the facts, and that her character possibly came across as aggressive. \\u201cI was never aggressive,\\u201d Mrs. Johnson said. Ms. Shetterly reminded Mrs. Johnson of her persistence in the late 1950s, when she successfully pressed her supervisor into admitting her into traditionally   meetings. \\u201cYou took matters in your own hands,\\u201d Ms. Shetterly said. \\u201cFor other women, it was a revelation. \\u201d Ms. Johnson said: \\u201cWell, I don\\u2019t ever wait for something. I remember asking the question, \\u2018Is there a law?\\u2019 And he said, \\u2018Let her go.\\u2019 It was easier than arguing. \\u201d Listening in, one of Mrs. Johnson\\u2019s health aides chuckled. \\u201cYep,\\u201d he said, \\u201cThat\\u2019s the Katherine Johnson I know. \\u201d Though outwardly their stories are remarkable, both Mrs. Darden and Mrs. Johnson remained    when describing their careers, an attitude that seems to have prevailed among their peers. Ann Hammond, whose mother, Dorothy Vaughan, was one of the first black women to be hired by what was then called the National Advisory Committee for Aeronautics, or NACA, in 1943, said her mother never wanted a pat on the back. Mrs. Vaughan died in 2005 at the age of 98, and is played in the film by Octavia Spencer. \\u201cMy mother would\\u2019ve probably said, \\u2018I was just doing my job,\\u2019\\u201d Ms. Hammond, 80, said, speaking in the Hampton bungalow where she grew up with her five siblings. But what jobs they were. While military budget cuts and sequestration have hurt the economy here in recent decades, some 75 years ago the hungry wartime machine needed manpower, and womanpower, to fill its depleted ranks. This helped open the door for black female mathematicians, who were recruited through job bulletin boards and newspaper ads. Their job title? \\u201cColored computers. \\u201d Mrs. Johnson, a math savant, graduated summa cum laude from what is now West Virginia State University at 18, and heard about the job through a family connection. Mrs. Darden, who went to college at Hampton Institute and earned a master\\u2019s degree in math at Virginia State College, was hired to be a NASA data analyst out of graduate school in 1967, and went on to become an aerospace engineer. The military boom lasted for decades, allowing the women and their families to have what Ms. Hammond described as a good life, despite enduring the indignities of segregation in the early years  \\u2014   working, eating and using restrooms apart from white colleagues. Ms. Shetterly discovered in her research that the space agency\\u2019s leaders were well aware of the negative effects of segregation. As Virginia began vigorously fighting public school desegregation in 1956, one higher up worried about the face that the United States, with its roiling racial problems, was presenting to the world, using words that still have resonance today. \\u201cIn trying to provide leadership in world events, it is necessary for this country to indicate to the world that we practice equality for all within this country,\\u201d NACA\\u2019s chief counsel, Paul Dembling, wrote in a file memo that year. Two years later, the segregated computing pool was disbanded. Through it all, by most accounts, the black women at NASA held their heads high. \\u201cHer whole life, my mother never felt superior and never felt less than anybody else,\\u201d said Joylette Hylick, the eldest of Mrs. Johnson\\u2019s three daughters. \\u201cShe didn\\u2019t let it get in her way. \\u201d\",\n          \"WASHINGTON  \\u2014   Pressure mounted on Sunday for a broader congressional investigation of Russian cyberattacks aimed at influencing the American election, even as a top aide to   Donald J. Trump said there was no conclusive evidence of foreign interference. The effort was being led by a bipartisan group of senators, including John McCain, Republican of Arizona, and Chuck Schumer of New York, the Senate Democratic leader, who called on Sunday for the creation of a Senate select committee on cyberactivity to take the investigative lead on Capitol Hill. \\u201cRecent reports of Russian interference in our election should alarm every American,\\u201d the senators wrote on Sunday in a letter to Senator Mitch McConnell, Republican of Kentucky and the majority leader, who has said a select committee is not necessary. \\u201cCybersecurity is the ultimate   challenge, and we must take a comprehensive approach to meet this challenge effectively. \\u201d The developments served to deepen the fissures between   lawmakers of both parties who see American intelligence reports implicating Russia as the basis for additional inquiries and Mr. Trump, who continues to reject the conclusions of those reports. But the developments also put new strain on Mr. McConnell. He now faces calls from Mr. McCain and Lindsey Graham, two Senate Republicans considered well versed on national security issues, to form a select committee. If he were to reject that appeal, he would be subject to criticism that he was trying to avoid a spotlight on an issue that senators in both parties believe is worthy of more focused scrutiny. Mr. McConnell said last week that while he respects the intelligence agencies\\u2019 conclusions, the Senate Intelligence Committee is \\u201cmore than capable of conducting a complete review\\u201d itself. He also acknowledged that Mr. McCain could conduct an investigation on the Armed Services Committee, an option that remains open should Mr. McConnell decide against a select committee. Those divisions, coming as the Electoral College prepares to meet on Monday to ratify Mr. Trump\\u2019s election and the   completes his cabinet choices, all but ensured that the issue would cloud the first months of Mr. Trump\\u2019s presidency, when he will be asking Congress to approve an aggressive legislative agenda. Several permanent congressional committees have already been tasked with examining various aspects of the Russian interference, which has been largely accepted as fact by most members of Congress. But in their letter on Sunday, the lawmakers argued the issue was too important and complicated for an existing committee to take on properly. \\u201cWe share your respect for, and deference to, the regular order of the Senate, and we recognize that this is an extraordinary request,\\u201d the senators wrote to Mr. McConnell. \\u201cHowever, we believe it is justified by the extraordinary scope and scale of the cyber problem. \\u201d In addition to undertaking a \\u201ccomprehensive investigation of Russian interference,\\u201d the senators recommended that such a committee also develop \\u201ccomprehensive recommendations and, as necessary, new legislation to modernize our nation\\u2019s laws, governmental organization, and related practices to meet this challenge. \\u201d Select committees, which are typically created to examine a particular issue for a limited time, are rarely formed. The most prominent recent example is the House Select Committee on the attacks in 2012 on the American diplomatic compound in Benghazi, Libya, an inquiry that Democrats have denounced as unduly partisan. Speaker Paul D. Ryan said last week that the House Intelligence Committee would continue its own examination of Russian hacking. Mr. Schumer said in a news conference on Sunday that they intended to avoid such charges of partisanship. \\u201cWe don\\u2019t want it to just be finger pointing at one person or another,\\u201d Mr. Schumer said. \\u201cWe want to find out what the Russians are doing to our political system and what other foreign governments might do to our political system. And then figure out a way to stop it. \\u201d A spokesman for Mr. McConnell, David Popp, referred to Mr. McConnell\\u2019s earlier comments and said the majority leader would be reviewing the latest letter. The letter was also signed by Mr. Graham, Republican of South Carolina, and Senator Jack Reed, Democrat of Rhode Island, two members of the Senate Armed Services Committee that Mr. McCain leads. It follows a signed statement from the lawmakers, released last week, warning that any congressional investigation into the hacks \\u201ccannot become a partisan issue. \\u201d Mr. Trump, for his part, has sought to paint the intelligence community\\u2019s conclusions about the matter as just that  \\u2014   a partisan attack against him. He said last week that the reports were \\u201cjust another excuse\\u201d by Democrats frustrated with the election results that might be used to try to undermine his victory. Asked on CBS\\u2019s \\u201cFace the Nation\\u201d on Sunday what information Mr. Trump had received that led him to reject intelligence assessments, Kellyanne Conway, one of Mr. Trump\\u2019s top advisers, insisted that the reports about the hacking were groundless. \\u201cWhere is the evidence?\\u201d Ms. Conway asked, turning the question around. \\u201cWhy, when C. I. A. officials were invited to a House intelligence briefing last week, did they refuse to go?\\u201d Robert M. Gates, the former defense secretary under President Obama and President George W. Bush who has offered counsel to Mr. Trump, speculated on NBC\\u2019s \\u201cMeet the Press\\u201d that the   \\u201cfelt the way this information came out through newspaper stories and so on was somehow intended to delegitimize his victory in the election and that he\\u2019s reacting to that rather than \\u2018the facts on the ground,\\u2019 as it were. \\u201d But Mr. Gates also said the Russian hacking was aimed at discrediting the American electoral process. \\u201cWhether or not it was intended to help one candidate or another, I don\\u2019t know,\\u201d said Mr. Gates, who also served as C. I. A. director under President George Bush. \\u201cBut I think it clearly was aimed at discrediting our elections, and I think it was aimed certainly at weakening Mrs. Clinton. \\u201d Mr. Obama, in a news conference on Friday, vowed that the United States would respond to the attack. He said that he was still weighing a mix of covert and public actions to retaliate before he leaves office. And lawmakers from both parties have proposed new sanctions to punish Russia. Speaking Sunday on CNN\\u2019s \\u201cState of the Union,\\u201d Mr. McCain sought to add urgency to the matter. \\u201cThere\\u2019s no doubt they were interfering and no doubt that it was cyberattacks,\\u201d he said of the Russians. \\u201cThe question now is how much and what damage and what should the United States of America do? And so far, we have been totally paralyzed. \\u201d Mr. McCain said that he had faith that \\u201creality is going to intercede at one point or another\\u201d on Mr. Trump, suggesting that the   might come to agree about Russian influence. Asked on CBS about Mr. Obama\\u2019s pledge of retaliation, Ms. Conway said Mr. Trump \\u201crespects\\u201d Mr. Obama\\u2019s right to respond as he sees fit for the remainder of his presidency. But, she added, that \\u201cdoesn\\u2019t mean that new President Trump will agree with it and continue it. \\u201d \\u201cIt does seem to be a political response at this point because it seems like the president is under pressure from Team Hillary, who can\\u2019t accept the election results,\\u201d she said.\"\n        ],\n        \"semantic_type\": \"\",\n        \"description\": \"\"\n      }\n    },\n    {\n      \"column\": \"label\",\n      \"properties\": {\n        \"dtype\": \"number\",\n        \"std\": 0,\n        \"min\": 0,\n        \"max\": 1,\n        \"num_unique_values\": 2,\n        \"samples\": [\n          0,\n          1\n        ],\n        \"semantic_type\": \"\",\n        \"description\": \"\"\n      }\n    }\n  ]\n}"
            }
          },
          "metadata": {},
          "execution_count": 76
        }
      ]
    },
    {
      "cell_type": "code",
      "source": [
        "train_data['content'] = train_data['author']+\" \"+train_data['title']"
      ],
      "metadata": {
        "id": "EQUIduQozE_7"
      },
      "execution_count": 119,
      "outputs": []
    },
    {
      "cell_type": "markdown",
      "source": [
        "# Processing the textual data in the dataset."
      ],
      "metadata": {
        "id": "6WYDIeM6DKqM"
      }
    },
    {
      "cell_type": "code",
      "source": [
        "port_stem = PorterStemmer()"
      ],
      "metadata": {
        "id": "8DeuRYyBDYUm"
      },
      "execution_count": 106,
      "outputs": []
    },
    {
      "cell_type": "code",
      "source": [
        "# to convert all the words, except the stopwords to their root words\n",
        "def stemming(content):\n",
        "   if isinstance(content, str):\n",
        "    stemmed_content = re.sub('[^a-zA-Z]', ' ', content)\n",
        "    stemmed_content = stemmed_content.lower()\n",
        "    stemmed_content = stemmed_content.split()\n",
        "    stemmed_content = [port_stem.stem(word) for word in stemmed_content if not word in stopwords.words('english')]\n",
        "    stemmed_content = ' '.join(stemmed_content)\n",
        "    return stemmed_content\n",
        "   else:\n",
        "     return ''\n",
        "\n",
        "\n"
      ],
      "metadata": {
        "id": "QMLqI4AwD7E1"
      },
      "execution_count": 114,
      "outputs": []
    },
    {
      "cell_type": "code",
      "source": [
        "train_data['content'] = train_data['content'].apply(stemming)"
      ],
      "metadata": {
        "id": "QIWsoVyhFa1K"
      },
      "execution_count": 120,
      "outputs": []
    },
    {
      "cell_type": "code",
      "source": [
        "print(train_data['content'])"
      ],
      "metadata": {
        "colab": {
          "base_uri": "https://localhost:8080/"
        },
        "id": "GQJzH6mvNBFE",
        "outputId": "367f9f9f-12a2-4901-9826-121383696d24"
      },
      "execution_count": 121,
      "outputs": [
        {
          "output_type": "stream",
          "name": "stdout",
          "text": [
            "0       darrel lucu hous dem aid even see comey letter...\n",
            "1       daniel j flynn flynn hillari clinton big woman...\n",
            "2                  consortiumnew com truth might get fire\n",
            "3       jessica purkiss civilian kill singl us airstri...\n",
            "4       howard portnoy iranian woman jail fiction unpu...\n",
            "                              ...                        \n",
            "1970    author usa china respons north korean nuclear ...\n",
            "1971    david waldstein ben rothenberg u open quiet ca...\n",
            "1972    michel inni australia everyon think new york time\n",
            "1973    poke staff tori horror film poster send chill ...\n",
            "1974                                                     \n",
            "Name: content, Length: 1975, dtype: object\n"
          ]
        }
      ]
    },
    {
      "cell_type": "code",
      "source": [
        "x = train_data['content'].values\n",
        "y = train_data['label'].values"
      ],
      "metadata": {
        "id": "f736MC8rNHPL"
      },
      "execution_count": 122,
      "outputs": []
    },
    {
      "cell_type": "code",
      "source": [
        "# converting the text in x to numerical data.\n",
        "vectorizer = TfidfVectorizer()\n",
        "vectorizer.fit(x)\n",
        "x = vectorizer.fit_transform(x)\n"
      ],
      "metadata": {
        "id": "Jxy2jpxvSczL"
      },
      "execution_count": 123,
      "outputs": []
    },
    {
      "cell_type": "markdown",
      "source": [
        "# Climax : model training and testing"
      ],
      "metadata": {
        "id": "-DnY4LSVVS4l"
      }
    },
    {
      "cell_type": "code",
      "source": [
        "x_train, x_test, y_train, y_test =train_test_split(x, y, test_size=0.2, stratify=y, random_state=2)"
      ],
      "metadata": {
        "id": "rWjGxyVeVR75"
      },
      "execution_count": 41,
      "outputs": []
    },
    {
      "cell_type": "code",
      "source": [
        "model = LogisticRegression()"
      ],
      "metadata": {
        "id": "Sr40hOROV6q6"
      },
      "execution_count": 35,
      "outputs": []
    },
    {
      "cell_type": "code",
      "source": [
        "model.fit(x_train, y_train)"
      ],
      "metadata": {
        "id": "3Rdv7BJHzjHw"
      },
      "execution_count": null,
      "outputs": []
    },
    {
      "cell_type": "code",
      "source": [
        "predicted_y = model.predict(x_train)"
      ],
      "metadata": {
        "id": "ffEAUhB9zqk3"
      },
      "execution_count": 37,
      "outputs": []
    },
    {
      "cell_type": "code",
      "source": [
        "test_accuracy = accuracy_score(y_train, predicted_y)\n",
        "print(test_accuracy)"
      ],
      "metadata": {
        "colab": {
          "base_uri": "https://localhost:8080/"
        },
        "id": "eMAMGejXz222",
        "outputId": "6f9bc4cb-f8bf-4ff5-decd-4577259f2f22"
      },
      "execution_count": 39,
      "outputs": [
        {
          "output_type": "stream",
          "name": "stdout",
          "text": [
            "0.9677215189873418\n"
          ]
        }
      ]
    },
    {
      "cell_type": "markdown",
      "source": [
        "# Model testing on the test data that was splitted."
      ],
      "metadata": {
        "id": "HzY87_0L0k9T"
      }
    },
    {
      "cell_type": "code",
      "source": [
        "pred_test_y = model.predict(x_test)\n",
        "test_accuracy = accuracy_score(y_test, pred_test_y)\n",
        "print(test_accuracy)"
      ],
      "metadata": {
        "colab": {
          "base_uri": "https://localhost:8080/"
        },
        "id": "X5OGGx2W0jdE",
        "outputId": "8b4f450e-46ed-46da-bd33-87ad7f16d865"
      },
      "execution_count": 43,
      "outputs": [
        {
          "output_type": "stream",
          "name": "stdout",
          "text": [
            "0.9316455696202531\n"
          ]
        }
      ]
    },
    {
      "cell_type": "markdown",
      "source": [
        "# Model trial on test.csv Radhe Radhe"
      ],
      "metadata": {
        "id": "7kZdlLpi3z4C"
      }
    },
    {
      "cell_type": "code",
      "source": [
        "test_data = pd.read_csv('/content/test.csv', skiprows=[2161])"
      ],
      "metadata": {
        "id": "gXTqw9g36EbI"
      },
      "execution_count": 60,
      "outputs": []
    },
    {
      "cell_type": "code",
      "source": [
        "test_data.shape"
      ],
      "metadata": {
        "colab": {
          "base_uri": "https://localhost:8080/"
        },
        "id": "So7BcSjx6EJq",
        "outputId": "bd35cfe7-e848-4463-803c-b992fa083443"
      },
      "execution_count": 61,
      "outputs": [
        {
          "output_type": "execute_result",
          "data": {
            "text/plain": [
              "(2160, 4)"
            ]
          },
          "metadata": {},
          "execution_count": 61
        }
      ]
    },
    {
      "cell_type": "code",
      "source": [
        "test_data.head()"
      ],
      "metadata": {
        "colab": {
          "base_uri": "https://localhost:8080/",
          "height": 293
        },
        "id": "lvHwHVcJ6DxA",
        "outputId": "3ad9dcae-afa3-4b40-fa34-4e423020d6bf"
      },
      "execution_count": 62,
      "outputs": [
        {
          "output_type": "execute_result",
          "data": {
            "text/plain": [
              "      id                                              title  \\\n",
              "0  20800  Specter of Trump Loosens Tongues, if Not Purse...   \n",
              "1  20801  Russian warships ready to strike terrorists ne...   \n",
              "2  20802  #NoDAPL: Native American Leaders Vow to Stay A...   \n",
              "3  20803  Tim Tebow Will Attempt Another Comeback, This ...   \n",
              "4  20804                    Keiser Report: Meme Wars (E995)   \n",
              "\n",
              "                    author                                               text  \n",
              "0         David Streitfeld  PALO ALTO, Calif.  —   After years of scorning...  \n",
              "1                      NaN  Russian warships ready to strike terrorists ne...  \n",
              "2            Common Dreams  Videos #NoDAPL: Native American Leaders Vow to...  \n",
              "3            Daniel Victor  If at first you don’t succeed, try a different...  \n",
              "4  Truth Broadcast Network  42 mins ago 1 Views 0 Comments 0 Likes 'For th...  "
            ],
            "text/html": [
              "\n",
              "  <div id=\"df-66d36abb-ee80-4676-b960-714fb1edbf9e\" class=\"colab-df-container\">\n",
              "    <div>\n",
              "<style scoped>\n",
              "    .dataframe tbody tr th:only-of-type {\n",
              "        vertical-align: middle;\n",
              "    }\n",
              "\n",
              "    .dataframe tbody tr th {\n",
              "        vertical-align: top;\n",
              "    }\n",
              "\n",
              "    .dataframe thead th {\n",
              "        text-align: right;\n",
              "    }\n",
              "</style>\n",
              "<table border=\"1\" class=\"dataframe\">\n",
              "  <thead>\n",
              "    <tr style=\"text-align: right;\">\n",
              "      <th></th>\n",
              "      <th>id</th>\n",
              "      <th>title</th>\n",
              "      <th>author</th>\n",
              "      <th>text</th>\n",
              "    </tr>\n",
              "  </thead>\n",
              "  <tbody>\n",
              "    <tr>\n",
              "      <th>0</th>\n",
              "      <td>20800</td>\n",
              "      <td>Specter of Trump Loosens Tongues, if Not Purse...</td>\n",
              "      <td>David Streitfeld</td>\n",
              "      <td>PALO ALTO, Calif.  —   After years of scorning...</td>\n",
              "    </tr>\n",
              "    <tr>\n",
              "      <th>1</th>\n",
              "      <td>20801</td>\n",
              "      <td>Russian warships ready to strike terrorists ne...</td>\n",
              "      <td>NaN</td>\n",
              "      <td>Russian warships ready to strike terrorists ne...</td>\n",
              "    </tr>\n",
              "    <tr>\n",
              "      <th>2</th>\n",
              "      <td>20802</td>\n",
              "      <td>#NoDAPL: Native American Leaders Vow to Stay A...</td>\n",
              "      <td>Common Dreams</td>\n",
              "      <td>Videos #NoDAPL: Native American Leaders Vow to...</td>\n",
              "    </tr>\n",
              "    <tr>\n",
              "      <th>3</th>\n",
              "      <td>20803</td>\n",
              "      <td>Tim Tebow Will Attempt Another Comeback, This ...</td>\n",
              "      <td>Daniel Victor</td>\n",
              "      <td>If at first you don’t succeed, try a different...</td>\n",
              "    </tr>\n",
              "    <tr>\n",
              "      <th>4</th>\n",
              "      <td>20804</td>\n",
              "      <td>Keiser Report: Meme Wars (E995)</td>\n",
              "      <td>Truth Broadcast Network</td>\n",
              "      <td>42 mins ago 1 Views 0 Comments 0 Likes 'For th...</td>\n",
              "    </tr>\n",
              "  </tbody>\n",
              "</table>\n",
              "</div>\n",
              "    <div class=\"colab-df-buttons\">\n",
              "\n",
              "  <div class=\"colab-df-container\">\n",
              "    <button class=\"colab-df-convert\" onclick=\"convertToInteractive('df-66d36abb-ee80-4676-b960-714fb1edbf9e')\"\n",
              "            title=\"Convert this dataframe to an interactive table.\"\n",
              "            style=\"display:none;\">\n",
              "\n",
              "  <svg xmlns=\"http://www.w3.org/2000/svg\" height=\"24px\" viewBox=\"0 -960 960 960\">\n",
              "    <path d=\"M120-120v-720h720v720H120Zm60-500h600v-160H180v160Zm220 220h160v-160H400v160Zm0 220h160v-160H400v160ZM180-400h160v-160H180v160Zm440 0h160v-160H620v160ZM180-180h160v-160H180v160Zm440 0h160v-160H620v160Z\"/>\n",
              "  </svg>\n",
              "    </button>\n",
              "\n",
              "  <style>\n",
              "    .colab-df-container {\n",
              "      display:flex;\n",
              "      gap: 12px;\n",
              "    }\n",
              "\n",
              "    .colab-df-convert {\n",
              "      background-color: #E8F0FE;\n",
              "      border: none;\n",
              "      border-radius: 50%;\n",
              "      cursor: pointer;\n",
              "      display: none;\n",
              "      fill: #1967D2;\n",
              "      height: 32px;\n",
              "      padding: 0 0 0 0;\n",
              "      width: 32px;\n",
              "    }\n",
              "\n",
              "    .colab-df-convert:hover {\n",
              "      background-color: #E2EBFA;\n",
              "      box-shadow: 0px 1px 2px rgba(60, 64, 67, 0.3), 0px 1px 3px 1px rgba(60, 64, 67, 0.15);\n",
              "      fill: #174EA6;\n",
              "    }\n",
              "\n",
              "    .colab-df-buttons div {\n",
              "      margin-bottom: 4px;\n",
              "    }\n",
              "\n",
              "    [theme=dark] .colab-df-convert {\n",
              "      background-color: #3B4455;\n",
              "      fill: #D2E3FC;\n",
              "    }\n",
              "\n",
              "    [theme=dark] .colab-df-convert:hover {\n",
              "      background-color: #434B5C;\n",
              "      box-shadow: 0px 1px 3px 1px rgba(0, 0, 0, 0.15);\n",
              "      filter: drop-shadow(0px 1px 2px rgba(0, 0, 0, 0.3));\n",
              "      fill: #FFFFFF;\n",
              "    }\n",
              "  </style>\n",
              "\n",
              "    <script>\n",
              "      const buttonEl =\n",
              "        document.querySelector('#df-66d36abb-ee80-4676-b960-714fb1edbf9e button.colab-df-convert');\n",
              "      buttonEl.style.display =\n",
              "        google.colab.kernel.accessAllowed ? 'block' : 'none';\n",
              "\n",
              "      async function convertToInteractive(key) {\n",
              "        const element = document.querySelector('#df-66d36abb-ee80-4676-b960-714fb1edbf9e');\n",
              "        const dataTable =\n",
              "          await google.colab.kernel.invokeFunction('convertToInteractive',\n",
              "                                                    [key], {});\n",
              "        if (!dataTable) return;\n",
              "\n",
              "        const docLinkHtml = 'Like what you see? Visit the ' +\n",
              "          '<a target=\"_blank\" href=https://colab.research.google.com/notebooks/data_table.ipynb>data table notebook</a>'\n",
              "          + ' to learn more about interactive tables.';\n",
              "        element.innerHTML = '';\n",
              "        dataTable['output_type'] = 'display_data';\n",
              "        await google.colab.output.renderOutput(dataTable, element);\n",
              "        const docLink = document.createElement('div');\n",
              "        docLink.innerHTML = docLinkHtml;\n",
              "        element.appendChild(docLink);\n",
              "      }\n",
              "    </script>\n",
              "  </div>\n",
              "\n",
              "\n",
              "<div id=\"df-b48a3505-8b0e-4db7-9c9c-96e196f2ca6f\">\n",
              "  <button class=\"colab-df-quickchart\" onclick=\"quickchart('df-b48a3505-8b0e-4db7-9c9c-96e196f2ca6f')\"\n",
              "            title=\"Suggest charts\"\n",
              "            style=\"display:none;\">\n",
              "\n",
              "<svg xmlns=\"http://www.w3.org/2000/svg\" height=\"24px\"viewBox=\"0 0 24 24\"\n",
              "     width=\"24px\">\n",
              "    <g>\n",
              "        <path d=\"M19 3H5c-1.1 0-2 .9-2 2v14c0 1.1.9 2 2 2h14c1.1 0 2-.9 2-2V5c0-1.1-.9-2-2-2zM9 17H7v-7h2v7zm4 0h-2V7h2v10zm4 0h-2v-4h2v4z\"/>\n",
              "    </g>\n",
              "</svg>\n",
              "  </button>\n",
              "\n",
              "<style>\n",
              "  .colab-df-quickchart {\n",
              "      --bg-color: #E8F0FE;\n",
              "      --fill-color: #1967D2;\n",
              "      --hover-bg-color: #E2EBFA;\n",
              "      --hover-fill-color: #174EA6;\n",
              "      --disabled-fill-color: #AAA;\n",
              "      --disabled-bg-color: #DDD;\n",
              "  }\n",
              "\n",
              "  [theme=dark] .colab-df-quickchart {\n",
              "      --bg-color: #3B4455;\n",
              "      --fill-color: #D2E3FC;\n",
              "      --hover-bg-color: #434B5C;\n",
              "      --hover-fill-color: #FFFFFF;\n",
              "      --disabled-bg-color: #3B4455;\n",
              "      --disabled-fill-color: #666;\n",
              "  }\n",
              "\n",
              "  .colab-df-quickchart {\n",
              "    background-color: var(--bg-color);\n",
              "    border: none;\n",
              "    border-radius: 50%;\n",
              "    cursor: pointer;\n",
              "    display: none;\n",
              "    fill: var(--fill-color);\n",
              "    height: 32px;\n",
              "    padding: 0;\n",
              "    width: 32px;\n",
              "  }\n",
              "\n",
              "  .colab-df-quickchart:hover {\n",
              "    background-color: var(--hover-bg-color);\n",
              "    box-shadow: 0 1px 2px rgba(60, 64, 67, 0.3), 0 1px 3px 1px rgba(60, 64, 67, 0.15);\n",
              "    fill: var(--button-hover-fill-color);\n",
              "  }\n",
              "\n",
              "  .colab-df-quickchart-complete:disabled,\n",
              "  .colab-df-quickchart-complete:disabled:hover {\n",
              "    background-color: var(--disabled-bg-color);\n",
              "    fill: var(--disabled-fill-color);\n",
              "    box-shadow: none;\n",
              "  }\n",
              "\n",
              "  .colab-df-spinner {\n",
              "    border: 2px solid var(--fill-color);\n",
              "    border-color: transparent;\n",
              "    border-bottom-color: var(--fill-color);\n",
              "    animation:\n",
              "      spin 1s steps(1) infinite;\n",
              "  }\n",
              "\n",
              "  @keyframes spin {\n",
              "    0% {\n",
              "      border-color: transparent;\n",
              "      border-bottom-color: var(--fill-color);\n",
              "      border-left-color: var(--fill-color);\n",
              "    }\n",
              "    20% {\n",
              "      border-color: transparent;\n",
              "      border-left-color: var(--fill-color);\n",
              "      border-top-color: var(--fill-color);\n",
              "    }\n",
              "    30% {\n",
              "      border-color: transparent;\n",
              "      border-left-color: var(--fill-color);\n",
              "      border-top-color: var(--fill-color);\n",
              "      border-right-color: var(--fill-color);\n",
              "    }\n",
              "    40% {\n",
              "      border-color: transparent;\n",
              "      border-right-color: var(--fill-color);\n",
              "      border-top-color: var(--fill-color);\n",
              "    }\n",
              "    60% {\n",
              "      border-color: transparent;\n",
              "      border-right-color: var(--fill-color);\n",
              "    }\n",
              "    80% {\n",
              "      border-color: transparent;\n",
              "      border-right-color: var(--fill-color);\n",
              "      border-bottom-color: var(--fill-color);\n",
              "    }\n",
              "    90% {\n",
              "      border-color: transparent;\n",
              "      border-bottom-color: var(--fill-color);\n",
              "    }\n",
              "  }\n",
              "</style>\n",
              "\n",
              "  <script>\n",
              "    async function quickchart(key) {\n",
              "      const quickchartButtonEl =\n",
              "        document.querySelector('#' + key + ' button');\n",
              "      quickchartButtonEl.disabled = true;  // To prevent multiple clicks.\n",
              "      quickchartButtonEl.classList.add('colab-df-spinner');\n",
              "      try {\n",
              "        const charts = await google.colab.kernel.invokeFunction(\n",
              "            'suggestCharts', [key], {});\n",
              "      } catch (error) {\n",
              "        console.error('Error during call to suggestCharts:', error);\n",
              "      }\n",
              "      quickchartButtonEl.classList.remove('colab-df-spinner');\n",
              "      quickchartButtonEl.classList.add('colab-df-quickchart-complete');\n",
              "    }\n",
              "    (() => {\n",
              "      let quickchartButtonEl =\n",
              "        document.querySelector('#df-b48a3505-8b0e-4db7-9c9c-96e196f2ca6f button');\n",
              "      quickchartButtonEl.style.display =\n",
              "        google.colab.kernel.accessAllowed ? 'block' : 'none';\n",
              "    })();\n",
              "  </script>\n",
              "</div>\n",
              "\n",
              "    </div>\n",
              "  </div>\n"
            ],
            "application/vnd.google.colaboratory.intrinsic+json": {
              "type": "dataframe",
              "variable_name": "test_data",
              "summary": "{\n  \"name\": \"test_data\",\n  \"rows\": 2160,\n  \"fields\": [\n    {\n      \"column\": \"id\",\n      \"properties\": {\n        \"dtype\": \"number\",\n        \"std\": 623,\n        \"min\": 20800,\n        \"max\": 22959,\n        \"num_unique_values\": 2160,\n        \"samples\": [\n          22879,\n          21468,\n          22873\n        ],\n        \"semantic_type\": \"\",\n        \"description\": \"\"\n      }\n    },\n    {\n      \"column\": \"title\",\n      \"properties\": {\n        \"dtype\": \"string\",\n        \"num_unique_values\": 2102,\n        \"samples\": [\n          \"Iraqi Army Discovers US-Made Missiles in ISIS\\u2019s Military Base in Mosul\",\n          \"Netanyahu Meets African Leaders to Expand Israel Ties\",\n          \"WATCH \\u2013 Video Leaked From Obama\\u2019s 2008 Campaign Is Every Trump Hater\\u2019s Worst Nightmare\"\n        ],\n        \"semantic_type\": \"\",\n        \"description\": \"\"\n      }\n    },\n    {\n      \"column\": \"author\",\n      \"properties\": {\n        \"dtype\": \"category\",\n        \"num_unique_values\": 967,\n        \"samples\": [\n          \"Brett T.\",\n          \"Vivian Yee\",\n          \"Matt Peppe\"\n        ],\n        \"semantic_type\": \"\",\n        \"description\": \"\"\n      }\n    },\n    {\n      \"column\": \"text\",\n      \"properties\": {\n        \"dtype\": \"string\",\n        \"num_unique_values\": 2136,\n        \"samples\": [\n          \"Federal Communications Commission (FCC) Chairman Ajit Pai plans a quick repeal of the controversial net neutrality order and wants to replace it with lighter regulations intended to preserve an open internet. [Chairman Pai, a Republican appointed by President Donald Trump, met with telecommunications groups on Tuesday to discuss his plans .  The net neutrality order, created by former FCC Chairman Tom Wheeler back in early 2015, regulates the internet similar to a public monopoly. Net neutrality prohibited telecommunications companies from creating internet \\u201cfast lanes\\u201d that would ensure consistent Skype video chat, and   Netflix streaming. At the meeting, Pai suggested that internet service providers voluntarily agree to certain practices preserving an open internet. The Federal Trade Commission would then enforce compliance of these rules. Industry sources state that the FCC will unveil its plan to eliminate net neutrality as early as late April, a vote could come in May or June. Internet providers such as ATT and Verizon argued that net neutrality made it harder to manage web traffic and curtailed broadband investment. Net neutrality advocates worry that internet service providers might unfairly discriminate content. In December, Chairman Pai stated that net neutrality\\u2019s days were numbered. He said that he believes \\u201cin a free and open internet and the only question is what regulatory framework best secures that. \\u201d\",\n          \"\\nThe impact of the Syrian refugee crisis has been felt worldwide. \\nWhile it has helped make immigration a central issue in the U.S. presidential elections, one of the most affected countries has been Germany \\u2014 with Pew noting that the nation received \\u201c442,000 asylum applications in 2015 alone.\\u201d \\nNow, a report has emerged from Germany that just one of these immigrants is claiming nearly $400,000 in benefits from the government, due to the fact that he arrived in the country with his four wives... and 23 children. Europe going mad: Syrian refugee in Germany claiming benefits for his 4 wives and 22 children. https://t.co/Cmcn550fym \\u2014 Michael Heaver (@Michael_Heaver) October 26, 2016 \\nThe man \\u2014 who has been identified only as Ghazia A. \\u2014 is allowed to have multiple wives under Muslim tradition, but only if he can support them financially. \\nUpon emigrating to Germany, where polygamy is not officially permitted but officials have been 'looking the other way,' Ghazia was forced to choose just one of his four wives as his \\u201cmain\\u201d wife. \\nHe then split up his 22 children \\u2014 one has since married and moved to Saudi Arabia \\u2014 among the other three. These family members were placed in neighboring homes, some up to 31 miles away. \\nGhazia explained to German newspaper Das Bild how his wide-ranging family responsibilities have left him unable to work: \\n\\\"According to our religion I have the duty to visit each family equally and not to prioritize any of them. \\nI am practically always on my way to be with my family \\u2014 yet I would gladly like to work.\\\" \\nNoting that \\u201cregardless of how one evaluates facts morally, it is never wrong to know the hard numbers,\\u201d one German financial manager calculated the state benefits Ghazia would receive for his massive family. \\nAccording to his estimate , it comes out to roughly $390,000 per year in U.S. dollars. Germany: Syrian Refugee with 4 Wives and 23 Children Claims \\u00a3320,000 a year in benefits https://t.co/lU2ED6dSn9 \\u2014 Bill Mitchell (@mitchellvii) October 26, 2016 \\nWhile much of the criticism surrounding America's acceptance of refugees has centered on concerns of terrorism , similar cultural clashes have also been seen in the U.S. \\nIn August, one refugee family brought a lawsuit against the Pennsylvania school they were placed in, arguing it's not the school they \\u201cdeserved.\\u201d Lawsuit: Expert calls pace at Phoenix Academy \\u2018totally inappropriate\\u2019 for refugee students https://t.co/8AW75hF7tY #LNPinsider #FridayReads \\u2014 LancasterOnline.com (@LancasterOnline) August 19, 2016 \\nOther, larger concerns have also emerged about the potential culture clash that could come as a result of accepting huge numbers of refugees, particularly involving women. \\nSome have argued that the \\u201cbrutal ideology in Muslim majority countries\\u201d that many refugees were raised to practice places women in Western countries at risk of both sexual assault and violence. \\nIn September, German Chancellor Angela Merkel admitted that she had lost control of her \\u201copen-door\\u201d refugee policy, even expressing that she would \\u201cturn back time\\u201d if she could. \\nWith Ghazia's case representing just one situation causing backlash from her citizens, it's not difficult to see why. \",\n          \"Mosquito Army Released in Zika Fight in Brazil & Colombia \\\"Vaccinating mosquitoes...\\\" Image Credits: flickr, 31031835@N08 . \\nScientists are planning to release an army of millions of modified mosquitoes in areas of Brazil and Colombia. \\nThey say the unusual approach is an attempt to provide \\u201crevolutionary protection\\u201d against mosquito-borne diseases such as Zika and chikungunya. \\nThe mosquitoes are infected with a bug called Wolbachia which reduces their ability to spread viruses to people. \\nThe $18m dollar project is funded by an international team of donors, including the Bill and Melinda Gates Foundation.\"\n        ],\n        \"semantic_type\": \"\",\n        \"description\": \"\"\n      }\n    }\n  ]\n}"
            }
          },
          "metadata": {},
          "execution_count": 62
        }
      ]
    },
    {
      "cell_type": "code",
      "source": [
        "test_data.isnull().sum()"
      ],
      "metadata": {
        "colab": {
          "base_uri": "https://localhost:8080/"
        },
        "id": "1X0ZanQX6Xhe",
        "outputId": "acc4ea6b-2e74-4d23-ab6b-258625a76381"
      },
      "execution_count": 63,
      "outputs": [
        {
          "output_type": "execute_result",
          "data": {
            "text/plain": [
              "id          0\n",
              "title      54\n",
              "author    201\n",
              "text        3\n",
              "dtype: int64"
            ]
          },
          "metadata": {},
          "execution_count": 63
        }
      ]
    },
    {
      "cell_type": "code",
      "source": [
        "test_data.fillna('')"
      ],
      "metadata": {
        "colab": {
          "base_uri": "https://localhost:8080/",
          "height": 597
        },
        "id": "6j1oJhbW6Xd3",
        "outputId": "1d4df56e-ea52-4667-bd66-bc31361322da"
      },
      "execution_count": 64,
      "outputs": [
        {
          "output_type": "execute_result",
          "data": {
            "text/plain": [
              "         id                                              title  \\\n",
              "0     20800  Specter of Trump Loosens Tongues, if Not Purse...   \n",
              "1     20801  Russian warships ready to strike terrorists ne...   \n",
              "2     20802  #NoDAPL: Native American Leaders Vow to Stay A...   \n",
              "3     20803  Tim Tebow Will Attempt Another Comeback, This ...   \n",
              "4     20804                    Keiser Report: Meme Wars (E995)   \n",
              "...     ...                                                ...   \n",
              "2155  22955  Bernie Sanders to California Democrats: Please...   \n",
              "2156  22956  They Said What?!: Find Out What Paul Krugman, ...   \n",
              "2157  22957  PHOTOS: German Carnival Floats Depict Decapita...   \n",
              "2158  22958  Davos Elite Fret About Inequality Over Vintage...   \n",
              "2159  22959  Pressure on Taliban leaders, makes Afghan Issu...   \n",
              "\n",
              "                       author  \\\n",
              "0            David Streitfeld   \n",
              "1                               \n",
              "2               Common Dreams   \n",
              "3               Daniel Victor   \n",
              "4     Truth Broadcast Network   \n",
              "...                       ...   \n",
              "2155           Joel B. Pollak   \n",
              "2156                            \n",
              "2157          Chris Tomlinson   \n",
              "2158         Peter S. Goodman   \n",
              "2159                      GPD   \n",
              "\n",
              "                                                   text  \n",
              "0     PALO ALTO, Calif.  —   After years of scorning...  \n",
              "1     Russian warships ready to strike terrorists ne...  \n",
              "2     Videos #NoDAPL: Native American Leaders Vow to...  \n",
              "3     If at first you don’t succeed, try a different...  \n",
              "4     42 mins ago 1 Views 0 Comments 0 Likes 'For th...  \n",
              "...                                                 ...  \n",
              "2155  Former presidential candidate Sen. Bernie Sand...  \n",
              "2156  Email Ever wonder what’s on the mind of today’...  \n",
              "2157  German cities held their annual Rose Monday fl...  \n",
              "2158  DAVOS, Switzerland  —   You have perhaps notic...  \n",
              "2159  Syrian War Report – October 31, 2016: Al-Nusra...  \n",
              "\n",
              "[2160 rows x 4 columns]"
            ],
            "text/html": [
              "\n",
              "  <div id=\"df-3bc8bc34-7da6-44cd-a31d-42505e49d1c0\" class=\"colab-df-container\">\n",
              "    <div>\n",
              "<style scoped>\n",
              "    .dataframe tbody tr th:only-of-type {\n",
              "        vertical-align: middle;\n",
              "    }\n",
              "\n",
              "    .dataframe tbody tr th {\n",
              "        vertical-align: top;\n",
              "    }\n",
              "\n",
              "    .dataframe thead th {\n",
              "        text-align: right;\n",
              "    }\n",
              "</style>\n",
              "<table border=\"1\" class=\"dataframe\">\n",
              "  <thead>\n",
              "    <tr style=\"text-align: right;\">\n",
              "      <th></th>\n",
              "      <th>id</th>\n",
              "      <th>title</th>\n",
              "      <th>author</th>\n",
              "      <th>text</th>\n",
              "    </tr>\n",
              "  </thead>\n",
              "  <tbody>\n",
              "    <tr>\n",
              "      <th>0</th>\n",
              "      <td>20800</td>\n",
              "      <td>Specter of Trump Loosens Tongues, if Not Purse...</td>\n",
              "      <td>David Streitfeld</td>\n",
              "      <td>PALO ALTO, Calif.  —   After years of scorning...</td>\n",
              "    </tr>\n",
              "    <tr>\n",
              "      <th>1</th>\n",
              "      <td>20801</td>\n",
              "      <td>Russian warships ready to strike terrorists ne...</td>\n",
              "      <td></td>\n",
              "      <td>Russian warships ready to strike terrorists ne...</td>\n",
              "    </tr>\n",
              "    <tr>\n",
              "      <th>2</th>\n",
              "      <td>20802</td>\n",
              "      <td>#NoDAPL: Native American Leaders Vow to Stay A...</td>\n",
              "      <td>Common Dreams</td>\n",
              "      <td>Videos #NoDAPL: Native American Leaders Vow to...</td>\n",
              "    </tr>\n",
              "    <tr>\n",
              "      <th>3</th>\n",
              "      <td>20803</td>\n",
              "      <td>Tim Tebow Will Attempt Another Comeback, This ...</td>\n",
              "      <td>Daniel Victor</td>\n",
              "      <td>If at first you don’t succeed, try a different...</td>\n",
              "    </tr>\n",
              "    <tr>\n",
              "      <th>4</th>\n",
              "      <td>20804</td>\n",
              "      <td>Keiser Report: Meme Wars (E995)</td>\n",
              "      <td>Truth Broadcast Network</td>\n",
              "      <td>42 mins ago 1 Views 0 Comments 0 Likes 'For th...</td>\n",
              "    </tr>\n",
              "    <tr>\n",
              "      <th>...</th>\n",
              "      <td>...</td>\n",
              "      <td>...</td>\n",
              "      <td>...</td>\n",
              "      <td>...</td>\n",
              "    </tr>\n",
              "    <tr>\n",
              "      <th>2155</th>\n",
              "      <td>22955</td>\n",
              "      <td>Bernie Sanders to California Democrats: Please...</td>\n",
              "      <td>Joel B. Pollak</td>\n",
              "      <td>Former presidential candidate Sen. Bernie Sand...</td>\n",
              "    </tr>\n",
              "    <tr>\n",
              "      <th>2156</th>\n",
              "      <td>22956</td>\n",
              "      <td>They Said What?!: Find Out What Paul Krugman, ...</td>\n",
              "      <td></td>\n",
              "      <td>Email Ever wonder what’s on the mind of today’...</td>\n",
              "    </tr>\n",
              "    <tr>\n",
              "      <th>2157</th>\n",
              "      <td>22957</td>\n",
              "      <td>PHOTOS: German Carnival Floats Depict Decapita...</td>\n",
              "      <td>Chris Tomlinson</td>\n",
              "      <td>German cities held their annual Rose Monday fl...</td>\n",
              "    </tr>\n",
              "    <tr>\n",
              "      <th>2158</th>\n",
              "      <td>22958</td>\n",
              "      <td>Davos Elite Fret About Inequality Over Vintage...</td>\n",
              "      <td>Peter S. Goodman</td>\n",
              "      <td>DAVOS, Switzerland  —   You have perhaps notic...</td>\n",
              "    </tr>\n",
              "    <tr>\n",
              "      <th>2159</th>\n",
              "      <td>22959</td>\n",
              "      <td>Pressure on Taliban leaders, makes Afghan Issu...</td>\n",
              "      <td>GPD</td>\n",
              "      <td>Syrian War Report – October 31, 2016: Al-Nusra...</td>\n",
              "    </tr>\n",
              "  </tbody>\n",
              "</table>\n",
              "<p>2160 rows × 4 columns</p>\n",
              "</div>\n",
              "    <div class=\"colab-df-buttons\">\n",
              "\n",
              "  <div class=\"colab-df-container\">\n",
              "    <button class=\"colab-df-convert\" onclick=\"convertToInteractive('df-3bc8bc34-7da6-44cd-a31d-42505e49d1c0')\"\n",
              "            title=\"Convert this dataframe to an interactive table.\"\n",
              "            style=\"display:none;\">\n",
              "\n",
              "  <svg xmlns=\"http://www.w3.org/2000/svg\" height=\"24px\" viewBox=\"0 -960 960 960\">\n",
              "    <path d=\"M120-120v-720h720v720H120Zm60-500h600v-160H180v160Zm220 220h160v-160H400v160Zm0 220h160v-160H400v160ZM180-400h160v-160H180v160Zm440 0h160v-160H620v160ZM180-180h160v-160H180v160Zm440 0h160v-160H620v160Z\"/>\n",
              "  </svg>\n",
              "    </button>\n",
              "\n",
              "  <style>\n",
              "    .colab-df-container {\n",
              "      display:flex;\n",
              "      gap: 12px;\n",
              "    }\n",
              "\n",
              "    .colab-df-convert {\n",
              "      background-color: #E8F0FE;\n",
              "      border: none;\n",
              "      border-radius: 50%;\n",
              "      cursor: pointer;\n",
              "      display: none;\n",
              "      fill: #1967D2;\n",
              "      height: 32px;\n",
              "      padding: 0 0 0 0;\n",
              "      width: 32px;\n",
              "    }\n",
              "\n",
              "    .colab-df-convert:hover {\n",
              "      background-color: #E2EBFA;\n",
              "      box-shadow: 0px 1px 2px rgba(60, 64, 67, 0.3), 0px 1px 3px 1px rgba(60, 64, 67, 0.15);\n",
              "      fill: #174EA6;\n",
              "    }\n",
              "\n",
              "    .colab-df-buttons div {\n",
              "      margin-bottom: 4px;\n",
              "    }\n",
              "\n",
              "    [theme=dark] .colab-df-convert {\n",
              "      background-color: #3B4455;\n",
              "      fill: #D2E3FC;\n",
              "    }\n",
              "\n",
              "    [theme=dark] .colab-df-convert:hover {\n",
              "      background-color: #434B5C;\n",
              "      box-shadow: 0px 1px 3px 1px rgba(0, 0, 0, 0.15);\n",
              "      filter: drop-shadow(0px 1px 2px rgba(0, 0, 0, 0.3));\n",
              "      fill: #FFFFFF;\n",
              "    }\n",
              "  </style>\n",
              "\n",
              "    <script>\n",
              "      const buttonEl =\n",
              "        document.querySelector('#df-3bc8bc34-7da6-44cd-a31d-42505e49d1c0 button.colab-df-convert');\n",
              "      buttonEl.style.display =\n",
              "        google.colab.kernel.accessAllowed ? 'block' : 'none';\n",
              "\n",
              "      async function convertToInteractive(key) {\n",
              "        const element = document.querySelector('#df-3bc8bc34-7da6-44cd-a31d-42505e49d1c0');\n",
              "        const dataTable =\n",
              "          await google.colab.kernel.invokeFunction('convertToInteractive',\n",
              "                                                    [key], {});\n",
              "        if (!dataTable) return;\n",
              "\n",
              "        const docLinkHtml = 'Like what you see? Visit the ' +\n",
              "          '<a target=\"_blank\" href=https://colab.research.google.com/notebooks/data_table.ipynb>data table notebook</a>'\n",
              "          + ' to learn more about interactive tables.';\n",
              "        element.innerHTML = '';\n",
              "        dataTable['output_type'] = 'display_data';\n",
              "        await google.colab.output.renderOutput(dataTable, element);\n",
              "        const docLink = document.createElement('div');\n",
              "        docLink.innerHTML = docLinkHtml;\n",
              "        element.appendChild(docLink);\n",
              "      }\n",
              "    </script>\n",
              "  </div>\n",
              "\n",
              "\n",
              "<div id=\"df-152b45f6-e14a-40da-a14d-75ffdd27ea5a\">\n",
              "  <button class=\"colab-df-quickchart\" onclick=\"quickchart('df-152b45f6-e14a-40da-a14d-75ffdd27ea5a')\"\n",
              "            title=\"Suggest charts\"\n",
              "            style=\"display:none;\">\n",
              "\n",
              "<svg xmlns=\"http://www.w3.org/2000/svg\" height=\"24px\"viewBox=\"0 0 24 24\"\n",
              "     width=\"24px\">\n",
              "    <g>\n",
              "        <path d=\"M19 3H5c-1.1 0-2 .9-2 2v14c0 1.1.9 2 2 2h14c1.1 0 2-.9 2-2V5c0-1.1-.9-2-2-2zM9 17H7v-7h2v7zm4 0h-2V7h2v10zm4 0h-2v-4h2v4z\"/>\n",
              "    </g>\n",
              "</svg>\n",
              "  </button>\n",
              "\n",
              "<style>\n",
              "  .colab-df-quickchart {\n",
              "      --bg-color: #E8F0FE;\n",
              "      --fill-color: #1967D2;\n",
              "      --hover-bg-color: #E2EBFA;\n",
              "      --hover-fill-color: #174EA6;\n",
              "      --disabled-fill-color: #AAA;\n",
              "      --disabled-bg-color: #DDD;\n",
              "  }\n",
              "\n",
              "  [theme=dark] .colab-df-quickchart {\n",
              "      --bg-color: #3B4455;\n",
              "      --fill-color: #D2E3FC;\n",
              "      --hover-bg-color: #434B5C;\n",
              "      --hover-fill-color: #FFFFFF;\n",
              "      --disabled-bg-color: #3B4455;\n",
              "      --disabled-fill-color: #666;\n",
              "  }\n",
              "\n",
              "  .colab-df-quickchart {\n",
              "    background-color: var(--bg-color);\n",
              "    border: none;\n",
              "    border-radius: 50%;\n",
              "    cursor: pointer;\n",
              "    display: none;\n",
              "    fill: var(--fill-color);\n",
              "    height: 32px;\n",
              "    padding: 0;\n",
              "    width: 32px;\n",
              "  }\n",
              "\n",
              "  .colab-df-quickchart:hover {\n",
              "    background-color: var(--hover-bg-color);\n",
              "    box-shadow: 0 1px 2px rgba(60, 64, 67, 0.3), 0 1px 3px 1px rgba(60, 64, 67, 0.15);\n",
              "    fill: var(--button-hover-fill-color);\n",
              "  }\n",
              "\n",
              "  .colab-df-quickchart-complete:disabled,\n",
              "  .colab-df-quickchart-complete:disabled:hover {\n",
              "    background-color: var(--disabled-bg-color);\n",
              "    fill: var(--disabled-fill-color);\n",
              "    box-shadow: none;\n",
              "  }\n",
              "\n",
              "  .colab-df-spinner {\n",
              "    border: 2px solid var(--fill-color);\n",
              "    border-color: transparent;\n",
              "    border-bottom-color: var(--fill-color);\n",
              "    animation:\n",
              "      spin 1s steps(1) infinite;\n",
              "  }\n",
              "\n",
              "  @keyframes spin {\n",
              "    0% {\n",
              "      border-color: transparent;\n",
              "      border-bottom-color: var(--fill-color);\n",
              "      border-left-color: var(--fill-color);\n",
              "    }\n",
              "    20% {\n",
              "      border-color: transparent;\n",
              "      border-left-color: var(--fill-color);\n",
              "      border-top-color: var(--fill-color);\n",
              "    }\n",
              "    30% {\n",
              "      border-color: transparent;\n",
              "      border-left-color: var(--fill-color);\n",
              "      border-top-color: var(--fill-color);\n",
              "      border-right-color: var(--fill-color);\n",
              "    }\n",
              "    40% {\n",
              "      border-color: transparent;\n",
              "      border-right-color: var(--fill-color);\n",
              "      border-top-color: var(--fill-color);\n",
              "    }\n",
              "    60% {\n",
              "      border-color: transparent;\n",
              "      border-right-color: var(--fill-color);\n",
              "    }\n",
              "    80% {\n",
              "      border-color: transparent;\n",
              "      border-right-color: var(--fill-color);\n",
              "      border-bottom-color: var(--fill-color);\n",
              "    }\n",
              "    90% {\n",
              "      border-color: transparent;\n",
              "      border-bottom-color: var(--fill-color);\n",
              "    }\n",
              "  }\n",
              "</style>\n",
              "\n",
              "  <script>\n",
              "    async function quickchart(key) {\n",
              "      const quickchartButtonEl =\n",
              "        document.querySelector('#' + key + ' button');\n",
              "      quickchartButtonEl.disabled = true;  // To prevent multiple clicks.\n",
              "      quickchartButtonEl.classList.add('colab-df-spinner');\n",
              "      try {\n",
              "        const charts = await google.colab.kernel.invokeFunction(\n",
              "            'suggestCharts', [key], {});\n",
              "      } catch (error) {\n",
              "        console.error('Error during call to suggestCharts:', error);\n",
              "      }\n",
              "      quickchartButtonEl.classList.remove('colab-df-spinner');\n",
              "      quickchartButtonEl.classList.add('colab-df-quickchart-complete');\n",
              "    }\n",
              "    (() => {\n",
              "      let quickchartButtonEl =\n",
              "        document.querySelector('#df-152b45f6-e14a-40da-a14d-75ffdd27ea5a button');\n",
              "      quickchartButtonEl.style.display =\n",
              "        google.colab.kernel.accessAllowed ? 'block' : 'none';\n",
              "    })();\n",
              "  </script>\n",
              "</div>\n",
              "\n",
              "    </div>\n",
              "  </div>\n"
            ],
            "application/vnd.google.colaboratory.intrinsic+json": {
              "type": "dataframe",
              "summary": "{\n  \"name\": \"test_data\",\n  \"rows\": 2160,\n  \"fields\": [\n    {\n      \"column\": \"id\",\n      \"properties\": {\n        \"dtype\": \"number\",\n        \"std\": 623,\n        \"min\": 20800,\n        \"max\": 22959,\n        \"num_unique_values\": 2160,\n        \"samples\": [\n          22879,\n          21468,\n          22873\n        ],\n        \"semantic_type\": \"\",\n        \"description\": \"\"\n      }\n    },\n    {\n      \"column\": \"title\",\n      \"properties\": {\n        \"dtype\": \"string\",\n        \"num_unique_values\": 2103,\n        \"samples\": [\n          \"Trump: I Was Going to Fire Comey \\u2019Regardless of Recommendation\\u2019 - Breitbart\",\n          \"Donald Trump to Announce Supreme Court Nominee Next Week\",\n          \"Exclusive-Roger Stone: In Speech Trump Must Stick to Agenda, Make One Good Reference to \\u2019Fake News\\u2019 - Breitbart\"\n        ],\n        \"semantic_type\": \"\",\n        \"description\": \"\"\n      }\n    },\n    {\n      \"column\": \"author\",\n      \"properties\": {\n        \"dtype\": \"category\",\n        \"num_unique_values\": 968,\n        \"samples\": [\n          \"Annalyn Kurtz\",\n          \"Trump and the Power of Money | The Vineyard of the Saker\",\n          \"Doc Chaos\"\n        ],\n        \"semantic_type\": \"\",\n        \"description\": \"\"\n      }\n    },\n    {\n      \"column\": \"text\",\n      \"properties\": {\n        \"dtype\": \"string\",\n        \"num_unique_values\": 2137,\n        \"samples\": [\n          \"November 2, 2016 @ 3:20 am \\nCount me in. Mohammed Wazza Paedo November 2, 2016 @ 2:52 am \\nSounds great, but the cynic in me tells me that I\\u2019ve heard similar for the the last 3 or 4 years, that this or that is gonna happen to Obama or Clinton etc etc & of course nothing ever did. Seeing is believing. That being said, this time with the release of the latest batch of Criminal Clinton\\u2019s, Weiner & Abedin emails, I think this time there\\u2019s enough to make the mud stick. Especially now that the Intelligence Community & sections of the FBI are really pissed off. I won\\u2019t be holding my breath, but as Sir Winston Churchill once said \\u201cA week is a long time in politics\\u201d. Dajjal November 2, 2016 @ 4:33 am \\nMoe, there are many pissed off people in the CIA, FBI & Pentagon plus a plethora who were purged, who have scores to settle with Obamination and some of them have the means. \\u0111\\u009f\\u0099\\u0082 We may never know who really tipped off Wikileaks, it may be an inside job. \\nRumor has it the email archive folder on Weiner\\u2019s laptop was named \\u201clife insurance\\u201d. Did Weiner archive those emails for their blackmail value? Did he contemplate triggering a dead man switch? Too many questions, not enough answers. Don Spilman November 2, 2016 @ 2:29 am \\nThere is going to be some major shakeup. Thank you BNI I sent this immediately to my base. These are very vile evil people we are dealing with and they will react like a cornered mountain lion. The next few days are going to be interesting.\",\n          \"\\nThe impact of the Syrian refugee crisis has been felt worldwide. \\nWhile it has helped make immigration a central issue in the U.S. presidential elections, one of the most affected countries has been Germany \\u2014 with Pew noting that the nation received \\u201c442,000 asylum applications in 2015 alone.\\u201d \\nNow, a report has emerged from Germany that just one of these immigrants is claiming nearly $400,000 in benefits from the government, due to the fact that he arrived in the country with his four wives... and 23 children. Europe going mad: Syrian refugee in Germany claiming benefits for his 4 wives and 22 children. https://t.co/Cmcn550fym \\u2014 Michael Heaver (@Michael_Heaver) October 26, 2016 \\nThe man \\u2014 who has been identified only as Ghazia A. \\u2014 is allowed to have multiple wives under Muslim tradition, but only if he can support them financially. \\nUpon emigrating to Germany, where polygamy is not officially permitted but officials have been 'looking the other way,' Ghazia was forced to choose just one of his four wives as his \\u201cmain\\u201d wife. \\nHe then split up his 22 children \\u2014 one has since married and moved to Saudi Arabia \\u2014 among the other three. These family members were placed in neighboring homes, some up to 31 miles away. \\nGhazia explained to German newspaper Das Bild how his wide-ranging family responsibilities have left him unable to work: \\n\\\"According to our religion I have the duty to visit each family equally and not to prioritize any of them. \\nI am practically always on my way to be with my family \\u2014 yet I would gladly like to work.\\\" \\nNoting that \\u201cregardless of how one evaluates facts morally, it is never wrong to know the hard numbers,\\u201d one German financial manager calculated the state benefits Ghazia would receive for his massive family. \\nAccording to his estimate , it comes out to roughly $390,000 per year in U.S. dollars. Germany: Syrian Refugee with 4 Wives and 23 Children Claims \\u00a3320,000 a year in benefits https://t.co/lU2ED6dSn9 \\u2014 Bill Mitchell (@mitchellvii) October 26, 2016 \\nWhile much of the criticism surrounding America's acceptance of refugees has centered on concerns of terrorism , similar cultural clashes have also been seen in the U.S. \\nIn August, one refugee family brought a lawsuit against the Pennsylvania school they were placed in, arguing it's not the school they \\u201cdeserved.\\u201d Lawsuit: Expert calls pace at Phoenix Academy \\u2018totally inappropriate\\u2019 for refugee students https://t.co/8AW75hF7tY #LNPinsider #FridayReads \\u2014 LancasterOnline.com (@LancasterOnline) August 19, 2016 \\nOther, larger concerns have also emerged about the potential culture clash that could come as a result of accepting huge numbers of refugees, particularly involving women. \\nSome have argued that the \\u201cbrutal ideology in Muslim majority countries\\u201d that many refugees were raised to practice places women in Western countries at risk of both sexual assault and violence. \\nIn September, German Chancellor Angela Merkel admitted that she had lost control of her \\u201copen-door\\u201d refugee policy, even expressing that she would \\u201cturn back time\\u201d if she could. \\nWith Ghazia's case representing just one situation causing backlash from her citizens, it's not difficult to see why. \",\n          \"Mosquito Army Released in Zika Fight in Brazil & Colombia \\\"Vaccinating mosquitoes...\\\" Image Credits: flickr, 31031835@N08 . \\nScientists are planning to release an army of millions of modified mosquitoes in areas of Brazil and Colombia. \\nThey say the unusual approach is an attempt to provide \\u201crevolutionary protection\\u201d against mosquito-borne diseases such as Zika and chikungunya. \\nThe mosquitoes are infected with a bug called Wolbachia which reduces their ability to spread viruses to people. \\nThe $18m dollar project is funded by an international team of donors, including the Bill and Melinda Gates Foundation.\"\n        ],\n        \"semantic_type\": \"\",\n        \"description\": \"\"\n      }\n    }\n  ]\n}"
            }
          },
          "metadata": {},
          "execution_count": 64
        }
      ]
    },
    {
      "cell_type": "code",
      "source": [
        "test_data['content'] = test_data['author']+\" \"+test_data['title']"
      ],
      "metadata": {
        "id": "9vKoBRkP6XbI"
      },
      "execution_count": 124,
      "outputs": []
    },
    {
      "cell_type": "code",
      "source": [
        "test_data['content'] = test_data['content'].apply(stemming)"
      ],
      "metadata": {
        "id": "2H6RacQr6XCJ"
      },
      "execution_count": 125,
      "outputs": []
    },
    {
      "cell_type": "code",
      "source": [
        "print(test_data['content'])"
      ],
      "metadata": {
        "colab": {
          "base_uri": "https://localhost:8080/"
        },
        "id": "0IE7IUHf8sst",
        "outputId": "85c767af-22cc-4b6f-a396-ba477470ec31"
      },
      "execution_count": 127,
      "outputs": [
        {
          "output_type": "stream",
          "name": "stdout",
          "text": [
            "0       david streitfeld specter trump loosen tongu pu...\n",
            "1                                                        \n",
            "2       common dream nodapl nativ american leader vow ...\n",
            "3       daniel victor tim tebow attempt anoth comeback...\n",
            "4        truth broadcast network keiser report meme war e\n",
            "                              ...                        \n",
            "2155    joel b pollak berni sander california democrat...\n",
            "2156                                                     \n",
            "2157    chri tomlinson photo german carniv float depic...\n",
            "2158    peter goodman davo elit fret inequ vintag wine...\n",
            "2159    gpd pressur taliban leader make afghan issu co...\n",
            "Name: content, Length: 2160, dtype: object\n"
          ]
        }
      ]
    },
    {
      "cell_type": "code",
      "source": [
        "xt = test_data['content'].values"
      ],
      "metadata": {
        "id": "glgnkMll62yL"
      },
      "execution_count": 128,
      "outputs": []
    },
    {
      "cell_type": "code",
      "source": [
        "print(xt)"
      ],
      "metadata": {
        "colab": {
          "base_uri": "https://localhost:8080/"
        },
        "id": "2yRN7U5V7nLi",
        "outputId": "027a7320-829c-4563-a092-5ec22ba5f4ea"
      },
      "execution_count": 82,
      "outputs": [
        {
          "output_type": "stream",
          "name": "stdout",
          "text": [
            "  (0, 5579)\t0.09598335631366806\n",
            "  (0, 5310)\t0.3002678375382336\n",
            "  (0, 5194)\t0.12114495976256674\n",
            "  (0, 5117)\t0.34816949036624406\n",
            "  (0, 5096)\t0.09427325621328314\n",
            "  (0, 4861)\t0.34816949036624406\n",
            "  (0, 4854)\t0.34816949036624406\n",
            "  (0, 4734)\t0.34816949036624406\n",
            "  (0, 4611)\t0.30821741538902786\n",
            "  (0, 4003)\t0.34816949036624406\n",
            "  (0, 3441)\t0.09363298092790194\n",
            "  (0, 2964)\t0.34816949036624406\n",
            "  (0, 1256)\t0.21439635850468433\n",
            "  (2, 5504)\t0.28666520787121075\n",
            "  (2, 5386)\t0.2924660068695555\n",
            "  (2, 4802)\t0.30708285295197024\n",
            "  (2, 3847)\t0.22782176312329566\n",
            "  (2, 3489)\t0.32927386518085344\n",
            "  (2, 3389)\t0.3468878625094909\n",
            "  (2, 2857)\t0.2514372132139358\n",
            "  (2, 2849)\t0.28154854053307593\n",
            "  (2, 1837)\t0.2769715256328302\n",
            "  (2, 1498)\t0.30708285295197024\n",
            "  (2, 1007)\t0.30708285295197024\n",
            "  (2, 180)\t0.22254966999289477\n",
            "  :\t:\n",
            "  (2157, 1337)\t0.3460861060011662\n",
            "  (2157, 1279)\t0.3460861060011662\n",
            "  (2157, 1011)\t0.3160443745233962\n",
            "  (2157, 884)\t0.25085607030316653\n",
            "  (2157, 767)\t0.32851281962993634\n",
            "  (2158, 5579)\t0.09691889728434923\n",
            "  (2158, 5499)\t0.3112215822680395\n",
            "  (2158, 5356)\t0.351563066455773\n",
            "  (2158, 5096)\t0.09519212899513116\n",
            "  (2158, 3766)\t0.2600116023245014\n",
            "  (2158, 3441)\t0.09454561300526748\n",
            "  (2158, 2508)\t0.351563066455773\n",
            "  (2158, 2123)\t0.351563066455773\n",
            "  (2158, 1964)\t0.351563066455773\n",
            "  (2158, 1603)\t0.2807044275576156\n",
            "  (2158, 1258)\t0.333711675321469\n",
            "  (2158, 735)\t0.351563066455773\n",
            "  (2159, 4977)\t0.3787554291572006\n",
            "  (2159, 3917)\t0.3787554291572006\n",
            "  (2159, 3032)\t0.2776829113633888\n",
            "  (2159, 2857)\t0.30063214606381516\n",
            "  (2159, 2586)\t0.3366349033210744\n",
            "  (2159, 2139)\t0.39369792349639676\n",
            "  (2159, 1017)\t0.39369792349639676\n",
            "  (2159, 81)\t0.34968842587790727\n"
          ]
        }
      ]
    },
    {
      "cell_type": "code",
      "source": [
        "\n",
        "vectorizer = TfidfVectorizer()\n",
        "vectorizer.fit(xt)\n",
        "xt = vectorizer.fit_transform(xt)\n"
      ],
      "metadata": {
        "id": "K9g20iK77NtO"
      },
      "execution_count": 129,
      "outputs": []
    },
    {
      "cell_type": "code",
      "source": [
        "xt.shape"
      ],
      "metadata": {
        "colab": {
          "base_uri": "https://localhost:8080/"
        },
        "id": "xRO3OGJD9V9l",
        "outputId": "6051d816-2604-4c47-b3b1-ac92fd6aad2f"
      },
      "execution_count": 130,
      "outputs": [
        {
          "output_type": "execute_result",
          "data": {
            "text/plain": [
              "(2160, 5603)"
            ]
          },
          "metadata": {},
          "execution_count": 130
        }
      ]
    },
    {
      "cell_type": "code",
      "source": [
        "test_dataset_y = model.predict(xt)\n",
        "test_accuracy_1 = accuracy_score(test_dataset_y, y_train)\n",
        "test_accuracy_2 = accuracy_score(test_dataset_y, y_test)\n",
        "print(test_accuracy_1)\n",
        "print(test_accuracy_2)"
      ],
      "metadata": {
        "colab": {
          "base_uri": "https://localhost:8080/",
          "height": 391
        },
        "id": "Q1uNhYza360W",
        "outputId": "cae92d73-e709-490b-e35d-272e0c543031"
      },
      "execution_count": 134,
      "outputs": [
        {
          "output_type": "error",
          "ename": "ValueError",
          "evalue": "X has 5603 features, but LogisticRegression is expecting 5144 features as input.",
          "traceback": [
            "\u001b[0;31m---------------------------------------------------------------------------\u001b[0m",
            "\u001b[0;31mValueError\u001b[0m                                Traceback (most recent call last)",
            "\u001b[0;32m<ipython-input-134-1e1a5ac245ba>\u001b[0m in \u001b[0;36m<cell line: 1>\u001b[0;34m()\u001b[0m\n\u001b[0;32m----> 1\u001b[0;31m \u001b[0mtest_dataset_y\u001b[0m \u001b[0;34m=\u001b[0m \u001b[0mmodel\u001b[0m\u001b[0;34m.\u001b[0m\u001b[0mpredict\u001b[0m\u001b[0;34m(\u001b[0m\u001b[0mxt\u001b[0m\u001b[0;34m)\u001b[0m\u001b[0;34m\u001b[0m\u001b[0;34m\u001b[0m\u001b[0m\n\u001b[0m\u001b[1;32m      2\u001b[0m \u001b[0mtest_accuracy_1\u001b[0m \u001b[0;34m=\u001b[0m \u001b[0maccuracy_score\u001b[0m\u001b[0;34m(\u001b[0m\u001b[0mtest_dataset_y\u001b[0m\u001b[0;34m,\u001b[0m \u001b[0my_train\u001b[0m\u001b[0;34m)\u001b[0m\u001b[0;34m\u001b[0m\u001b[0;34m\u001b[0m\u001b[0m\n\u001b[1;32m      3\u001b[0m \u001b[0mtest_accuracy_2\u001b[0m \u001b[0;34m=\u001b[0m \u001b[0maccuracy_score\u001b[0m\u001b[0;34m(\u001b[0m\u001b[0mtest_dataset_y\u001b[0m\u001b[0;34m,\u001b[0m \u001b[0my_test\u001b[0m\u001b[0;34m)\u001b[0m\u001b[0;34m\u001b[0m\u001b[0;34m\u001b[0m\u001b[0m\n\u001b[1;32m      4\u001b[0m \u001b[0mprint\u001b[0m\u001b[0;34m(\u001b[0m\u001b[0mtest_accuracy_1\u001b[0m\u001b[0;34m)\u001b[0m\u001b[0;34m\u001b[0m\u001b[0;34m\u001b[0m\u001b[0m\n\u001b[1;32m      5\u001b[0m \u001b[0mprint\u001b[0m\u001b[0;34m(\u001b[0m\u001b[0mtest_accuracy_2\u001b[0m\u001b[0;34m)\u001b[0m\u001b[0;34m\u001b[0m\u001b[0;34m\u001b[0m\u001b[0m\n",
            "\u001b[0;32m/usr/local/lib/python3.10/dist-packages/sklearn/linear_model/_base.py\u001b[0m in \u001b[0;36mpredict\u001b[0;34m(self, X)\u001b[0m\n\u001b[1;32m    417\u001b[0m         \"\"\"\n\u001b[1;32m    418\u001b[0m         \u001b[0mxp\u001b[0m\u001b[0;34m,\u001b[0m \u001b[0m_\u001b[0m \u001b[0;34m=\u001b[0m \u001b[0mget_namespace\u001b[0m\u001b[0;34m(\u001b[0m\u001b[0mX\u001b[0m\u001b[0;34m)\u001b[0m\u001b[0;34m\u001b[0m\u001b[0;34m\u001b[0m\u001b[0m\n\u001b[0;32m--> 419\u001b[0;31m         \u001b[0mscores\u001b[0m \u001b[0;34m=\u001b[0m \u001b[0mself\u001b[0m\u001b[0;34m.\u001b[0m\u001b[0mdecision_function\u001b[0m\u001b[0;34m(\u001b[0m\u001b[0mX\u001b[0m\u001b[0;34m)\u001b[0m\u001b[0;34m\u001b[0m\u001b[0;34m\u001b[0m\u001b[0m\n\u001b[0m\u001b[1;32m    420\u001b[0m         \u001b[0;32mif\u001b[0m \u001b[0mlen\u001b[0m\u001b[0;34m(\u001b[0m\u001b[0mscores\u001b[0m\u001b[0;34m.\u001b[0m\u001b[0mshape\u001b[0m\u001b[0;34m)\u001b[0m \u001b[0;34m==\u001b[0m \u001b[0;36m1\u001b[0m\u001b[0;34m:\u001b[0m\u001b[0;34m\u001b[0m\u001b[0;34m\u001b[0m\u001b[0m\n\u001b[1;32m    421\u001b[0m             \u001b[0mindices\u001b[0m \u001b[0;34m=\u001b[0m \u001b[0mxp\u001b[0m\u001b[0;34m.\u001b[0m\u001b[0mastype\u001b[0m\u001b[0;34m(\u001b[0m\u001b[0mscores\u001b[0m \u001b[0;34m>\u001b[0m \u001b[0;36m0\u001b[0m\u001b[0;34m,\u001b[0m \u001b[0mint\u001b[0m\u001b[0;34m)\u001b[0m\u001b[0;34m\u001b[0m\u001b[0;34m\u001b[0m\u001b[0m\n",
            "\u001b[0;32m/usr/local/lib/python3.10/dist-packages/sklearn/linear_model/_base.py\u001b[0m in \u001b[0;36mdecision_function\u001b[0;34m(self, X)\u001b[0m\n\u001b[1;32m    398\u001b[0m         \u001b[0mxp\u001b[0m\u001b[0;34m,\u001b[0m \u001b[0m_\u001b[0m \u001b[0;34m=\u001b[0m \u001b[0mget_namespace\u001b[0m\u001b[0;34m(\u001b[0m\u001b[0mX\u001b[0m\u001b[0;34m)\u001b[0m\u001b[0;34m\u001b[0m\u001b[0;34m\u001b[0m\u001b[0m\n\u001b[1;32m    399\u001b[0m \u001b[0;34m\u001b[0m\u001b[0m\n\u001b[0;32m--> 400\u001b[0;31m         \u001b[0mX\u001b[0m \u001b[0;34m=\u001b[0m \u001b[0mself\u001b[0m\u001b[0;34m.\u001b[0m\u001b[0m_validate_data\u001b[0m\u001b[0;34m(\u001b[0m\u001b[0mX\u001b[0m\u001b[0;34m,\u001b[0m \u001b[0maccept_sparse\u001b[0m\u001b[0;34m=\u001b[0m\u001b[0;34m\"csr\"\u001b[0m\u001b[0;34m,\u001b[0m \u001b[0mreset\u001b[0m\u001b[0;34m=\u001b[0m\u001b[0;32mFalse\u001b[0m\u001b[0;34m)\u001b[0m\u001b[0;34m\u001b[0m\u001b[0;34m\u001b[0m\u001b[0m\n\u001b[0m\u001b[1;32m    401\u001b[0m         \u001b[0mscores\u001b[0m \u001b[0;34m=\u001b[0m \u001b[0msafe_sparse_dot\u001b[0m\u001b[0;34m(\u001b[0m\u001b[0mX\u001b[0m\u001b[0;34m,\u001b[0m \u001b[0mself\u001b[0m\u001b[0;34m.\u001b[0m\u001b[0mcoef_\u001b[0m\u001b[0;34m.\u001b[0m\u001b[0mT\u001b[0m\u001b[0;34m,\u001b[0m \u001b[0mdense_output\u001b[0m\u001b[0;34m=\u001b[0m\u001b[0;32mTrue\u001b[0m\u001b[0;34m)\u001b[0m \u001b[0;34m+\u001b[0m \u001b[0mself\u001b[0m\u001b[0;34m.\u001b[0m\u001b[0mintercept_\u001b[0m\u001b[0;34m\u001b[0m\u001b[0;34m\u001b[0m\u001b[0m\n\u001b[1;32m    402\u001b[0m         \u001b[0;32mreturn\u001b[0m \u001b[0mxp\u001b[0m\u001b[0;34m.\u001b[0m\u001b[0mreshape\u001b[0m\u001b[0;34m(\u001b[0m\u001b[0mscores\u001b[0m\u001b[0;34m,\u001b[0m \u001b[0;34m-\u001b[0m\u001b[0;36m1\u001b[0m\u001b[0;34m)\u001b[0m \u001b[0;32mif\u001b[0m \u001b[0mscores\u001b[0m\u001b[0;34m.\u001b[0m\u001b[0mshape\u001b[0m\u001b[0;34m[\u001b[0m\u001b[0;36m1\u001b[0m\u001b[0;34m]\u001b[0m \u001b[0;34m==\u001b[0m \u001b[0;36m1\u001b[0m \u001b[0;32melse\u001b[0m \u001b[0mscores\u001b[0m\u001b[0;34m\u001b[0m\u001b[0;34m\u001b[0m\u001b[0m\n",
            "\u001b[0;32m/usr/local/lib/python3.10/dist-packages/sklearn/base.py\u001b[0m in \u001b[0;36m_validate_data\u001b[0;34m(self, X, y, reset, validate_separately, **check_params)\u001b[0m\n\u001b[1;32m    586\u001b[0m \u001b[0;34m\u001b[0m\u001b[0m\n\u001b[1;32m    587\u001b[0m         \u001b[0;32mif\u001b[0m \u001b[0;32mnot\u001b[0m \u001b[0mno_val_X\u001b[0m \u001b[0;32mand\u001b[0m \u001b[0mcheck_params\u001b[0m\u001b[0;34m.\u001b[0m\u001b[0mget\u001b[0m\u001b[0;34m(\u001b[0m\u001b[0;34m\"ensure_2d\"\u001b[0m\u001b[0;34m,\u001b[0m \u001b[0;32mTrue\u001b[0m\u001b[0;34m)\u001b[0m\u001b[0;34m:\u001b[0m\u001b[0;34m\u001b[0m\u001b[0;34m\u001b[0m\u001b[0m\n\u001b[0;32m--> 588\u001b[0;31m             \u001b[0mself\u001b[0m\u001b[0;34m.\u001b[0m\u001b[0m_check_n_features\u001b[0m\u001b[0;34m(\u001b[0m\u001b[0mX\u001b[0m\u001b[0;34m,\u001b[0m \u001b[0mreset\u001b[0m\u001b[0;34m=\u001b[0m\u001b[0mreset\u001b[0m\u001b[0;34m)\u001b[0m\u001b[0;34m\u001b[0m\u001b[0;34m\u001b[0m\u001b[0m\n\u001b[0m\u001b[1;32m    589\u001b[0m \u001b[0;34m\u001b[0m\u001b[0m\n\u001b[1;32m    590\u001b[0m         \u001b[0;32mreturn\u001b[0m \u001b[0mout\u001b[0m\u001b[0;34m\u001b[0m\u001b[0;34m\u001b[0m\u001b[0m\n",
            "\u001b[0;32m/usr/local/lib/python3.10/dist-packages/sklearn/base.py\u001b[0m in \u001b[0;36m_check_n_features\u001b[0;34m(self, X, reset)\u001b[0m\n\u001b[1;32m    387\u001b[0m \u001b[0;34m\u001b[0m\u001b[0m\n\u001b[1;32m    388\u001b[0m         \u001b[0;32mif\u001b[0m \u001b[0mn_features\u001b[0m \u001b[0;34m!=\u001b[0m \u001b[0mself\u001b[0m\u001b[0;34m.\u001b[0m\u001b[0mn_features_in_\u001b[0m\u001b[0;34m:\u001b[0m\u001b[0;34m\u001b[0m\u001b[0;34m\u001b[0m\u001b[0m\n\u001b[0;32m--> 389\u001b[0;31m             raise ValueError(\n\u001b[0m\u001b[1;32m    390\u001b[0m                 \u001b[0;34mf\"X has {n_features} features, but {self.__class__.__name__} \"\u001b[0m\u001b[0;34m\u001b[0m\u001b[0;34m\u001b[0m\u001b[0m\n\u001b[1;32m    391\u001b[0m                 \u001b[0;34mf\"is expecting {self.n_features_in_} features as input.\"\u001b[0m\u001b[0;34m\u001b[0m\u001b[0;34m\u001b[0m\u001b[0m\n",
            "\u001b[0;31mValueError\u001b[0m: X has 5603 features, but LogisticRegression is expecting 5144 features as input."
          ]
        }
      ]
    }
  ]
}